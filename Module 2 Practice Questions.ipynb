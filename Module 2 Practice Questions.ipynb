{
 "cells": [
  {
   "cell_type": "markdown",
   "metadata": {},
   "source": [
    "# __Basic Python Programming - Practice Questions__\n",
    "\n",
    "\n",
    "__NOTE__: Please work practice questions on the same notebook as you progress through Modules 1 to 4. This way you can use the variables created in previous practice questions without having to recreate them. "
   ]
  },
  {
   "cell_type": "markdown",
   "metadata": {},
   "source": [
    "## __2. Data Structures Native to Python__\n"
   ]
  },
  {
   "cell_type": "markdown",
   "metadata": {},
   "source": [
    "### 2a. List\n",
    "\n",
    "1. Create a list named \"friends\" and add the names of 3 of your friends. Print the name of the first friend in this list. Print the names of remaining friends in the list using negative indexing.\n",
    "2. Let's say you made a new friend today and want to add his/her name to this list. Create a new list called \"new_friend\" that only has the name of your new friend. Use `arithmetic operator` to add the two lists. Print the results.\n",
    "3. Now use the `.append` method to add the item in \"new_friend\" list to the original \"friends\" list. Print the original list."
   ]
  },
  {
   "cell_type": "code",
   "execution_count": 1,
   "metadata": {},
   "outputs": [
    {
     "name": "stdout",
     "output_type": "stream",
     "text": [
      "ali\n",
      "veli\n",
      "deli\n"
     ]
    }
   ],
   "source": [
    "friends = ['ali','veli','deli']\n",
    "print(friends[0])\n",
    "print(friends[-2])\n",
    "print(friends[-1])"
   ]
  },
  {
   "cell_type": "markdown",
   "metadata": {},
   "source": [
    "4. Create a new variable \"nlist\" of type list that contains the integer 5.\n",
    "5. Expand the list with 5 additional values of 5. Print the results.\n",
    "6. Check to ensure that the length of list now is 5. "
   ]
  },
  {
   "cell_type": "code",
   "execution_count": 2,
   "metadata": {},
   "outputs": [
    {
     "name": "stdout",
     "output_type": "stream",
     "text": [
      "[5, 5, 5, 5, 5]\n"
     ]
    },
    {
     "data": {
      "text/plain": [
       "5"
      ]
     },
     "execution_count": 2,
     "metadata": {},
     "output_type": "execute_result"
    }
   ],
   "source": [
    "nlist = [5]\n",
    "nlist = 5*[5]\n",
    "print(nlist)\n",
    "len(nlist)"
   ]
  },
  {
   "cell_type": "markdown",
   "metadata": {},
   "source": [
    "7. Use the `.insert` method to insert a name of yet another friend at position 4 of the original list. Check to ensure that fourth friend on your list is this new friend of yours indeed. \n",
    "8. Use the `.index` method to check the position of one of your friends in the original list."
   ]
  },
  {
   "cell_type": "code",
   "execution_count": 26,
   "metadata": {},
   "outputs": [
    {
     "name": "stdout",
     "output_type": "stream",
     "text": [
      "['ali', 'veli', 'deli']\n",
      "['ali', 'veli', 'deli', 'mal']\n"
     ]
    },
    {
     "data": {
      "text/plain": [
       "0"
      ]
     },
     "execution_count": 26,
     "metadata": {},
     "output_type": "execute_result"
    }
   ],
   "source": [
    "print(friends)\n",
    "friends.insert(3,'mal')\n",
    "print(friends)\n",
    "friends.index('ali')"
   ]
  },
  {
   "cell_type": "markdown",
   "metadata": {},
   "source": [
    "9. Remove the new friend you just added on the list.\n",
    "10. Find out which method reverses the position of elements in the list? Use it to reverse the \"friends\" list."
   ]
  },
  {
   "cell_type": "code",
   "execution_count": 27,
   "metadata": {},
   "outputs": [
    {
     "name": "stdout",
     "output_type": "stream",
     "text": [
      "['ali', 'veli', 'deli']\n",
      "['deli', 'veli', 'ali']\n"
     ]
    }
   ],
   "source": [
    "friends.remove('mal')\n",
    "print(friends)\n",
    "friends.reverse()\n",
    "print(friends)"
   ]
  },
  {
   "cell_type": "code",
   "execution_count": 36,
   "metadata": {},
   "outputs": [
    {
     "name": "stdout",
     "output_type": "stream",
     "text": [
      "[1, 2, 3, 4, 5, 6, 7, 8, 9, 10, 11, 12, 13, 14, 15, 16, 17, 18, 19, 20, 21, 22, 23, 24, 25, 26, 27, 28, 29, 30, 31, 32, 33, 34, 35, 36, 37, 38, 39, 40, 41, 42, 43, 44, 45, 46, 47, 48, 49, 50, 51, 52, 53, 54, 55, 56, 57, 58, 59, 60, 61, 62, 63, 64, 65, 66, 67, 68, 69, 70, 71, 72, 73, 74, 75, 76, 77, 78, 79, 80, 81, 82, 83, 84, 85, 86, 87, 88, 89, 90, 91, 92, 93, 94, 95, 96, 97, 98, 99, 100]\n",
      "5050\n"
     ]
    }
   ],
   "source": [
    "no_list = [*range(1,101,1)]\n",
    "print(no_list)\n",
    "sum(no_list)==300"
   ]
  },
  {
   "cell_type": "markdown",
   "metadata": {},
   "source": [
    "11. Create a new list called \"no_list\" containing `range` of values from 1 to 100. \n",
    "12. Check if the sum is equal to 300. (True or False?)\n",
    "13. Print the sum of the list."
   ]
  },
  {
   "cell_type": "code",
   "execution_count": null,
   "metadata": {},
   "outputs": [],
   "source": [
    "print(sum(no_list))"
   ]
  },
  {
   "cell_type": "code",
   "execution_count": null,
   "metadata": {},
   "outputs": [],
   "source": []
  },
  {
   "cell_type": "markdown",
   "metadata": {},
   "source": [
    "14. Add the list [126,127,128,129,130] to \"no_list\" using  `append` method. Print the list."
   ]
  },
  {
   "cell_type": "code",
   "execution_count": 38,
   "metadata": {},
   "outputs": [
    {
     "name": "stdout",
     "output_type": "stream",
     "text": [
      "[1, 2, 3, 4, 5, 6, 7, 8, 9, 10, 11, 12, 13, 14, 15, 16, 17, 18, 19, 20, 21, 22, 23, 24, 25, 26, 27, 28, 29, 30, 31, 32, 33, 34, 35, 36, 37, 38, 39, 40, 41, 42, 43, 44, 45, 46, 47, 48, 49, 50, 51, 52, 53, 54, 55, 56, 57, 58, 59, 60, 61, 62, 63, 64, 65, 66, 67, 68, 69, 70, 71, 72, 73, 74, 75, 76, 77, 78, 79, 80, 81, 82, 83, 84, 85, 86, 87, 88, 89, 90, 91, 92, 93, 94, 95, 96, 97, 98, 99, 100, [126, 127, 128, 129, 130]]\n"
     ]
    }
   ],
   "source": [
    "no_list.append([126,127,128,129,130])\n",
    "print(no_list)"
   ]
  },
  {
   "cell_type": "markdown",
   "metadata": {},
   "source": [
    "19. Print a `range` from 0 to 10. Then, print every element inside it by converting it into a list. \n",
    "20. Print another `range` from 100 to 1000 with steps of 100. Then, print every element inside it by converting it into a list. "
   ]
  },
  {
   "cell_type": "code",
   "execution_count": 42,
   "metadata": {},
   "outputs": [
    {
     "name": "stdout",
     "output_type": "stream",
     "text": [
      "0 1 2 3 4 5 6 7 8 9 10\n",
      "[0, 1, 2, 3, 4, 5, 6, 7, 8, 9, 10]\n",
      "100 200 300 400 500 600 700 800 900\n",
      "[100, 200, 300, 400, 500, 600, 700, 800, 900]\n"
     ]
    }
   ],
   "source": [
    "print(*range(0,11))\n",
    "list = [*range(0,11)]\n",
    "print(list)\n",
    "print(*range(100,1000,100))\n",
    "print([*range(100,1000,100)])"
   ]
  },
  {
   "cell_type": "markdown",
   "metadata": {},
   "source": [
    "15. A list that contains one or more element as a list is called a nested list. To extract the list, you simply index it. The extracted list can be further indexed all in same line of code. Try it. Print only the number 129 from this nested list."
   ]
  },
  {
   "cell_type": "code",
   "execution_count": 46,
   "metadata": {},
   "outputs": [
    {
     "data": {
      "text/plain": [
       "129"
      ]
     },
     "execution_count": 46,
     "metadata": {},
     "output_type": "execute_result"
    }
   ],
   "source": [
    "no_list[100][3]"
   ]
  },
  {
   "cell_type": "markdown",
   "metadata": {},
   "source": [
    "### 2b. Dictionary\n",
    "\n",
    "1. Create a dictionary named \"friends_dict\" whose keys are the name of your friends you listed above and the values are their respective ages. \n",
    "2. Instead of storing just the ages of your friends as the value of the dictionary, can you save instead a list of their age, month and day of their birth, their neighborhood and the year you met them? Create this as a new dictionary named \"friends_info\".\n",
    "3. Print the value assigned to one of your friends in this dictionary."
   ]
  },
  {
   "cell_type": "code",
   "execution_count": 67,
   "metadata": {},
   "outputs": [
    {
     "data": {
      "text/plain": [
       "[3, 'May', 28, 'Toronto', 2000]"
      ]
     },
     "execution_count": 67,
     "metadata": {},
     "output_type": "execute_result"
    }
   ],
   "source": [
    "friends_dict={'ali':3,'veli':5,'deli':7}\n",
    "friends_info={'ali':[3,'May',28,'Toronto',2000],'veli':[3,'May',28,'Toronto',2000],'deli':[3,'May',28,'Toronto',2000]}\n",
    "friends_info['ali']"
   ]
  },
  {
   "cell_type": "markdown",
   "metadata": {},
   "source": [
    "4. Add yet another friend's name and their respective information in a list as a key-value pair to this dictionary. \n",
    "5. Print the information of this new friend you just added using the `.get` method.\n",
    "6. Find the length of this dictionary."
   ]
  },
  {
   "cell_type": "code",
   "execution_count": 68,
   "metadata": {},
   "outputs": [
    {
     "data": {
      "text/plain": [
       "[3, 'May', 28, 'Toronto', 2000]"
      ]
     },
     "execution_count": 68,
     "metadata": {},
     "output_type": "execute_result"
    }
   ],
   "source": [
    "friends_info['slmn']=[3,'May',28,'Toronto',2000]\n",
    "friends_info.get('slmn')"
   ]
  },
  {
   "cell_type": "markdown",
   "metadata": {},
   "source": [
    "7. Who is the oldest friend in your friends dictionary. Use `max` function to find. \n",
    "8. Repeat above for youngest friend."
   ]
  },
  {
   "cell_type": "code",
   "execution_count": 65,
   "metadata": {},
   "outputs": [
    {
     "name": "stdout",
     "output_type": "stream",
     "text": [
      "None\n"
     ]
    }
   ],
   "source": [
    "max(friends_dict['ali'],friends_dict['veli'],friends_dict['deli'])"
   ]
  },
  {
   "cell_type": "markdown",
   "metadata": {},
   "source": [
    "# Contact: Rotman Python Help\n",
    "#                 pythonhelp@rotman.utoronto.ca"
   ]
  }
 ],
 "metadata": {
  "kernelspec": {
   "display_name": "Python 3",
   "language": "python",
   "name": "python3"
  },
  "language_info": {
   "codemirror_mode": {
    "name": "ipython",
    "version": 3
   },
   "file_extension": ".py",
   "mimetype": "text/x-python",
   "name": "python",
   "nbconvert_exporter": "python",
   "pygments_lexer": "ipython3",
   "version": "3.7.3"
  }
 },
 "nbformat": 4,
 "nbformat_minor": 2
}

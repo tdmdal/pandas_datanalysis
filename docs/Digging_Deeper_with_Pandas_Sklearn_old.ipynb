{
 "cells": [
  {
   "cell_type": "markdown",
   "id": "136824c5",
   "metadata": {},
   "source": [
    "# Python Programming Language for Data Analysis\n",
    "\n",
    "In our earlier workshop we learned how to import third party libraries such as `pandas` and use it to analyze data. In the process, we learned many fundamental aspects of programming such as:\n",
    "\n",
    "    - Variables and Data Types\n",
    "    - Operators\n",
    "    - Functions (User-defined functions, built-in functions, methods and third party functions)\n",
    "    - Indexing and Extracting elements from a sequence\n",
    "    \n",
    "We also learned how to use many core aspects of `pandas` library:\n",
    "\n",
    "    - How to import data in a csv file and get summary statistics for numeric and non-numeric columns\n",
    "    - How to list functions available in pandas modules and review its use by consulting documentations online\n",
    "    - How to filter rows and columns to get a desired subset of data\n",
    "    - How to create new columns with desired values\n",
    "    - How to group data based on one or multiple columns and get group-wise summary statistics\n",
    "    - How to plot data to visualize trends over time\n",
    "    \n",
    "In this workshop, we will now use this knowledge to perform end-to-end data analysis:\n",
    "\n",
    "    - First, we will begin by answering the questions we have already solved, so that we can practice what we know. \n",
    "    - Next, we will learn how to create Excel like pivot tables in Python. \n",
    "    - Finally, we will learn how to use the `sklearn` package for machine learning to create model that take the various information available in our data to predict the ridership on Sunday and Holidays. \n",
    "\n",
    "Let's begin by importing the libraries and data we will need."
   ]
  },
  {
   "cell_type": "code",
   "execution_count": 1,
   "id": "33f41576",
   "metadata": {},
   "outputs": [],
   "source": [
    "import pandas as pd\n",
    "import numpy as np\n",
    "\n",
    "import matplotlib.pyplot as plt\n",
    "from matplotlib.ticker import MaxNLocator "
   ]
  },
  {
   "cell_type": "code",
   "execution_count": 2,
   "id": "29c6393b",
   "metadata": {},
   "outputs": [
    {
     "data": {
      "text/html": [
       "<div>\n",
       "<style scoped>\n",
       "    .dataframe tbody tr th:only-of-type {\n",
       "        vertical-align: middle;\n",
       "    }\n",
       "\n",
       "    .dataframe tbody tr th {\n",
       "        vertical-align: top;\n",
       "    }\n",
       "\n",
       "    .dataframe thead th {\n",
       "        text-align: right;\n",
       "    }\n",
       "</style>\n",
       "<table border=\"1\" class=\"dataframe\">\n",
       "  <thead>\n",
       "    <tr style=\"text-align: right;\">\n",
       "      <th></th>\n",
       "      <th>route</th>\n",
       "      <th>routename</th>\n",
       "      <th>Month_Beginning</th>\n",
       "      <th>Avg_Weekday_Rides</th>\n",
       "      <th>Avg_Saturday_Rides</th>\n",
       "      <th>Avg_Sunday-Holiday_Rides</th>\n",
       "      <th>MonthTotal</th>\n",
       "    </tr>\n",
       "  </thead>\n",
       "  <tbody>\n",
       "    <tr>\n",
       "      <th>0</th>\n",
       "      <td>1</td>\n",
       "      <td>Indiana/Hyde Park</td>\n",
       "      <td>01/01/2001</td>\n",
       "      <td>6982.6</td>\n",
       "      <td>0.0</td>\n",
       "      <td>0.0</td>\n",
       "      <td>153617</td>\n",
       "    </tr>\n",
       "    <tr>\n",
       "      <th>1</th>\n",
       "      <td>2</td>\n",
       "      <td>Hyde Park Express</td>\n",
       "      <td>01/01/2001</td>\n",
       "      <td>1000.0</td>\n",
       "      <td>0.0</td>\n",
       "      <td>0.0</td>\n",
       "      <td>22001</td>\n",
       "    </tr>\n",
       "    <tr>\n",
       "      <th>2</th>\n",
       "      <td>3</td>\n",
       "      <td>King Drive</td>\n",
       "      <td>01/01/2001</td>\n",
       "      <td>21406.5</td>\n",
       "      <td>13210.7</td>\n",
       "      <td>8725.3</td>\n",
       "      <td>567413</td>\n",
       "    </tr>\n",
       "    <tr>\n",
       "      <th>3</th>\n",
       "      <td>4</td>\n",
       "      <td>Cottage Grove</td>\n",
       "      <td>01/01/2001</td>\n",
       "      <td>22432.2</td>\n",
       "      <td>17994.0</td>\n",
       "      <td>10662.2</td>\n",
       "      <td>618796</td>\n",
       "    </tr>\n",
       "    <tr>\n",
       "      <th>4</th>\n",
       "      <td>6</td>\n",
       "      <td>Jackson Park Express</td>\n",
       "      <td>01/01/2001</td>\n",
       "      <td>18443.0</td>\n",
       "      <td>13088.2</td>\n",
       "      <td>7165.6</td>\n",
       "      <td>493926</td>\n",
       "    </tr>\n",
       "  </tbody>\n",
       "</table>\n",
       "</div>"
      ],
      "text/plain": [
       "  route             routename Month_Beginning  Avg_Weekday_Rides  \\\n",
       "0     1     Indiana/Hyde Park      01/01/2001             6982.6   \n",
       "1     2     Hyde Park Express      01/01/2001             1000.0   \n",
       "2     3            King Drive      01/01/2001            21406.5   \n",
       "3     4         Cottage Grove      01/01/2001            22432.2   \n",
       "4     6  Jackson Park Express      01/01/2001            18443.0   \n",
       "\n",
       "   Avg_Saturday_Rides  Avg_Sunday-Holiday_Rides  MonthTotal  \n",
       "0                 0.0                       0.0      153617  \n",
       "1                 0.0                       0.0       22001  \n",
       "2             13210.7                    8725.3      567413  \n",
       "3             17994.0                   10662.2      618796  \n",
       "4             13088.2                    7165.6      493926  "
      ]
     },
     "execution_count": 2,
     "metadata": {},
     "output_type": "execute_result"
    }
   ],
   "source": [
    "data = pd.read_csv(filepath_or_buffer=\"cta-ridership-original.csv\")\n",
    "data.head()"
   ]
  },
  {
   "cell_type": "markdown",
   "id": "4377fe02",
   "metadata": {},
   "source": [
    "Let's answer the following questions first:\n",
    "1. Identify the 10 routes with highest number of ridership in total. Create a bar plot of total ridership of these top 10 routes. To create `bar` plot simple provide argument `bar` to the parameter `kind` of the `plot` method. \n",
    "2. Which route has the highest average ridership? Is it also the most popular route on Saturdays or on Sundays and Holidays? Why is the route so popular?\n",
    "3. Group the data by year to figure out the yearly average trend of ridership over the years. Plot the yearly average of the average monthly total ridership value.\n",
    "4. Now use the above grouped data to plot the average ridership during the weekdays, saturday and sunday/holidays by year.\n",
    "5. Which routes have the highest difference in average ridership between weekdays and Saturdays?\n",
    "6. Which routes have the highest difference in average ridership between weekdays and Sundays/Holidays?\n",
    "7. Which routes have the most consistent average ridership between weekdays, Saturdays and Sundays/Holidays? i.e. are there any route that are not affected by the day of the week?"
   ]
  },
  {
   "cell_type": "code",
   "execution_count": 9,
   "id": "fc4ef27d",
   "metadata": {},
   "outputs": [
    {
     "data": {
      "image/png": "[encoded data removed]",
      "text/plain": [
       "<Figure size 432x288 with 1 Axes>"
      ]
     },
     "metadata": {
      "needs_background": "light"
     },
     "output_type": "display_data"
    }
   ],
   "source": [
    "#1 \n",
    "routes_grouped = data[ ['routename', 'MonthTotal'] ].groupby('routename')\n",
    "monthtotal_byroutes = routes_grouped.sum()\n",
    "top10routes = monthtotal_byroutes.sort_values(by='MonthTotal', ascending=False)[:10] # python index starts from 0 & stop index position is not selected\n",
    "\n",
    "top10routes.plot(kind='bar')\n",
    "plt.show()"
   ]
  },
  {
   "cell_type": "code",
   "execution_count": 17,
   "id": "fb96ad71",
   "metadata": {},
   "outputs": [],
   "source": [
    "routes_grouped = data[['routename', 'Avg_Weekday_Rides']].groupby('routename')"
   ]
  },
  {
   "cell_type": "code",
   "execution_count": 36,
   "id": "144004f4",
   "metadata": {},
   "outputs": [
    {
     "data": {
      "image/png": "[encoded data removed]",
      "text/plain": [
       "<Figure size 432x288 with 1 Axes>"
      ]
     },
     "metadata": {
      "needs_background": "light"
     },
     "output_type": "display_data"
    },
    {
     "data": {
      "image/png": "[encoded data removed]",
      "text/plain": [
       "<Figure size 432x288 with 1 Axes>"
      ]
     },
     "metadata": {
      "needs_background": "light"
     },
     "output_type": "display_data"
    },
    {
     "data": {
      "image/png": "[encoded data removed]",
      "text/plain": [
       "<Figure size 432x288 with 1 Axes>"
      ]
     },
     "metadata": {
      "needs_background": "light"
     },
     "output_type": "display_data"
    }
   ],
   "source": [
    "#2 Which route has the highest average ridership? \n",
    "# Is it also the most popular route on Saturdays or on Sundays and Holidays? Why is the route so popular?\n",
    "\n",
    "cols = ['Avg_Weekday_Rides','Avg_Saturday_Rides', 'Avg_Sunday-Holiday_Rides']\n",
    "\n",
    "toproutes_byday = [ ]\n",
    "for i in cols:\n",
    "    routes_grouped = data[['routename',i]].groupby('routename')\n",
    "    total_byroutes = routes_grouped.sum()\n",
    "    toproutes = total_byroutes.sort_values(by=i, ascending=False)[:10]\n",
    "    toproutes_byday.append(toproutes)\n",
    "\n",
    "for i in toproutes_byday:\n",
    "    i.plot(kind='bar')\n",
    "    plt.show()"
   ]
  },
  {
   "cell_type": "code",
   "execution_count": 39,
   "id": "d12da06e",
   "metadata": {},
   "outputs": [
    {
     "data": {
      "text/html": [
       "<div>\n",
       "<style scoped>\n",
       "    .dataframe tbody tr th:only-of-type {\n",
       "        vertical-align: middle;\n",
       "    }\n",
       "\n",
       "    .dataframe tbody tr th {\n",
       "        vertical-align: top;\n",
       "    }\n",
       "\n",
       "    .dataframe thead th {\n",
       "        text-align: right;\n",
       "    }\n",
       "</style>\n",
       "<table border=\"1\" class=\"dataframe\">\n",
       "  <thead>\n",
       "    <tr style=\"text-align: right;\">\n",
       "      <th></th>\n",
       "      <th>route</th>\n",
       "      <th>routename</th>\n",
       "      <th>Month_Beginning</th>\n",
       "      <th>Avg_Weekday_Rides</th>\n",
       "      <th>Avg_Saturday_Rides</th>\n",
       "      <th>Avg_Sunday-Holiday_Rides</th>\n",
       "      <th>MonthTotal</th>\n",
       "    </tr>\n",
       "  </thead>\n",
       "  <tbody>\n",
       "    <tr>\n",
       "      <th>0</th>\n",
       "      <td>1</td>\n",
       "      <td>Indiana/Hyde Park</td>\n",
       "      <td>01/01/2001</td>\n",
       "      <td>6982.6</td>\n",
       "      <td>0.0</td>\n",
       "      <td>0.0</td>\n",
       "      <td>153617</td>\n",
       "    </tr>\n",
       "    <tr>\n",
       "      <th>1</th>\n",
       "      <td>2</td>\n",
       "      <td>Hyde Park Express</td>\n",
       "      <td>01/01/2001</td>\n",
       "      <td>1000.0</td>\n",
       "      <td>0.0</td>\n",
       "      <td>0.0</td>\n",
       "      <td>22001</td>\n",
       "    </tr>\n",
       "    <tr>\n",
       "      <th>2</th>\n",
       "      <td>3</td>\n",
       "      <td>King Drive</td>\n",
       "      <td>01/01/2001</td>\n",
       "      <td>21406.5</td>\n",
       "      <td>13210.7</td>\n",
       "      <td>8725.3</td>\n",
       "      <td>567413</td>\n",
       "    </tr>\n",
       "    <tr>\n",
       "      <th>3</th>\n",
       "      <td>4</td>\n",
       "      <td>Cottage Grove</td>\n",
       "      <td>01/01/2001</td>\n",
       "      <td>22432.2</td>\n",
       "      <td>17994.0</td>\n",
       "      <td>10662.2</td>\n",
       "      <td>618796</td>\n",
       "    </tr>\n",
       "    <tr>\n",
       "      <th>4</th>\n",
       "      <td>6</td>\n",
       "      <td>Jackson Park Express</td>\n",
       "      <td>01/01/2001</td>\n",
       "      <td>18443.0</td>\n",
       "      <td>13088.2</td>\n",
       "      <td>7165.6</td>\n",
       "      <td>493926</td>\n",
       "    </tr>\n",
       "  </tbody>\n",
       "</table>\n",
       "</div>"
      ],
      "text/plain": [
       "  route             routename Month_Beginning  Avg_Weekday_Rides  \\\n",
       "0     1     Indiana/Hyde Park      01/01/2001             6982.6   \n",
       "1     2     Hyde Park Express      01/01/2001             1000.0   \n",
       "2     3            King Drive      01/01/2001            21406.5   \n",
       "3     4         Cottage Grove      01/01/2001            22432.2   \n",
       "4     6  Jackson Park Express      01/01/2001            18443.0   \n",
       "\n",
       "   Avg_Saturday_Rides  Avg_Sunday-Holiday_Rides  MonthTotal  \n",
       "0                 0.0                       0.0      153617  \n",
       "1                 0.0                       0.0       22001  \n",
       "2             13210.7                    8725.3      567413  \n",
       "3             17994.0                   10662.2      618796  \n",
       "4             13088.2                    7165.6      493926  "
      ]
     },
     "execution_count": 39,
     "metadata": {},
     "output_type": "execute_result"
    }
   ],
   "source": [
    "# 3. Group the data by year to figure out the yearly average trend of ridership over the years. \n",
    "# Plot the yearly average of the average monthly total ridership value.\n",
    "data.head()\n"
   ]
  },
  {
   "cell_type": "code",
   "execution_count": 41,
   "id": "3d0676de",
   "metadata": {},
   "outputs": [
    {
     "name": "stdout",
     "output_type": "stream",
     "text": [
      "<class 'pandas.core.frame.DataFrame'>\n",
      "RangeIndex: 29541 entries, 0 to 29540\n",
      "Data columns (total 7 columns):\n",
      " #   Column                    Non-Null Count  Dtype         \n",
      "---  ------                    --------------  -----         \n",
      " 0   route                     29541 non-null  object        \n",
      " 1   routename                 29541 non-null  object        \n",
      " 2   Month_Beginning           29541 non-null  datetime64[ns]\n",
      " 3   Avg_Weekday_Rides         29541 non-null  float64       \n",
      " 4   Avg_Saturday_Rides        29541 non-null  float64       \n",
      " 5   Avg_Sunday-Holiday_Rides  29541 non-null  float64       \n",
      " 6   MonthTotal                29541 non-null  int64         \n",
      "dtypes: datetime64[ns](1), float64(3), int64(1), object(2)\n",
      "memory usage: 1.6+ MB\n"
     ]
    }
   ],
   "source": [
    "data['Month_Beginning'] = pd.to_datetime(data['Month_Beginning'], format='%m/%d/%Y')\n",
    "data.info()"
   ]
  },
  {
   "cell_type": "code",
   "execution_count": 42,
   "id": "8e91eea1",
   "metadata": {},
   "outputs": [
    {
     "data": {
      "text/html": [
       "<div>\n",
       "<style scoped>\n",
       "    .dataframe tbody tr th:only-of-type {\n",
       "        vertical-align: middle;\n",
       "    }\n",
       "\n",
       "    .dataframe tbody tr th {\n",
       "        vertical-align: top;\n",
       "    }\n",
       "\n",
       "    .dataframe thead th {\n",
       "        text-align: right;\n",
       "    }\n",
       "</style>\n",
       "<table border=\"1\" class=\"dataframe\">\n",
       "  <thead>\n",
       "    <tr style=\"text-align: right;\">\n",
       "      <th></th>\n",
       "      <th>route</th>\n",
       "      <th>routename</th>\n",
       "      <th>Month_Beginning</th>\n",
       "      <th>Avg_Weekday_Rides</th>\n",
       "      <th>Avg_Saturday_Rides</th>\n",
       "      <th>Avg_Sunday-Holiday_Rides</th>\n",
       "      <th>MonthTotal</th>\n",
       "      <th>Month_Beginning_Year</th>\n",
       "    </tr>\n",
       "  </thead>\n",
       "  <tbody>\n",
       "    <tr>\n",
       "      <th>0</th>\n",
       "      <td>1</td>\n",
       "      <td>Indiana/Hyde Park</td>\n",
       "      <td>2001-01-01</td>\n",
       "      <td>6982.6</td>\n",
       "      <td>0.0</td>\n",
       "      <td>0.0</td>\n",
       "      <td>153617</td>\n",
       "      <td>2001</td>\n",
       "    </tr>\n",
       "    <tr>\n",
       "      <th>1</th>\n",
       "      <td>2</td>\n",
       "      <td>Hyde Park Express</td>\n",
       "      <td>2001-01-01</td>\n",
       "      <td>1000.0</td>\n",
       "      <td>0.0</td>\n",
       "      <td>0.0</td>\n",
       "      <td>22001</td>\n",
       "      <td>2001</td>\n",
       "    </tr>\n",
       "    <tr>\n",
       "      <th>2</th>\n",
       "      <td>3</td>\n",
       "      <td>King Drive</td>\n",
       "      <td>2001-01-01</td>\n",
       "      <td>21406.5</td>\n",
       "      <td>13210.7</td>\n",
       "      <td>8725.3</td>\n",
       "      <td>567413</td>\n",
       "      <td>2001</td>\n",
       "    </tr>\n",
       "    <tr>\n",
       "      <th>3</th>\n",
       "      <td>4</td>\n",
       "      <td>Cottage Grove</td>\n",
       "      <td>2001-01-01</td>\n",
       "      <td>22432.2</td>\n",
       "      <td>17994.0</td>\n",
       "      <td>10662.2</td>\n",
       "      <td>618796</td>\n",
       "      <td>2001</td>\n",
       "    </tr>\n",
       "    <tr>\n",
       "      <th>4</th>\n",
       "      <td>6</td>\n",
       "      <td>Jackson Park Express</td>\n",
       "      <td>2001-01-01</td>\n",
       "      <td>18443.0</td>\n",
       "      <td>13088.2</td>\n",
       "      <td>7165.6</td>\n",
       "      <td>493926</td>\n",
       "      <td>2001</td>\n",
       "    </tr>\n",
       "  </tbody>\n",
       "</table>\n",
       "</div>"
      ],
      "text/plain": [
       "  route             routename Month_Beginning  Avg_Weekday_Rides  \\\n",
       "0     1     Indiana/Hyde Park      2001-01-01             6982.6   \n",
       "1     2     Hyde Park Express      2001-01-01             1000.0   \n",
       "2     3            King Drive      2001-01-01            21406.5   \n",
       "3     4         Cottage Grove      2001-01-01            22432.2   \n",
       "4     6  Jackson Park Express      2001-01-01            18443.0   \n",
       "\n",
       "   Avg_Saturday_Rides  Avg_Sunday-Holiday_Rides  MonthTotal  \\\n",
       "0                 0.0                       0.0      153617   \n",
       "1                 0.0                       0.0       22001   \n",
       "2             13210.7                    8725.3      567413   \n",
       "3             17994.0                   10662.2      618796   \n",
       "4             13088.2                    7165.6      493926   \n",
       "\n",
       "   Month_Beginning_Year  \n",
       "0                  2001  \n",
       "1                  2001  \n",
       "2                  2001  \n",
       "3                  2001  \n",
       "4                  2001  "
      ]
     },
     "execution_count": 42,
     "metadata": {},
     "output_type": "execute_result"
    }
   ],
   "source": [
    "data['Month_Beginning_Year'] = data['Month_Beginning'].dt.year\n",
    "data.head()"
   ]
  },
  {
   "cell_type": "code",
   "execution_count": 46,
   "id": "2718f49e",
   "metadata": {},
   "outputs": [
    {
     "data": {
      "text/html": [
       "<div>\n",
       "<style scoped>\n",
       "    .dataframe tbody tr th:only-of-type {\n",
       "        vertical-align: middle;\n",
       "    }\n",
       "\n",
       "    .dataframe tbody tr th {\n",
       "        vertical-align: top;\n",
       "    }\n",
       "\n",
       "    .dataframe thead th {\n",
       "        text-align: right;\n",
       "    }\n",
       "</style>\n",
       "<table border=\"1\" class=\"dataframe\">\n",
       "  <thead>\n",
       "    <tr style=\"text-align: right;\">\n",
       "      <th></th>\n",
       "      <th>Avg_Weekday_Rides</th>\n",
       "      <th>Avg_Saturday_Rides</th>\n",
       "      <th>Avg_Sunday-Holiday_Rides</th>\n",
       "      <th>MonthTotal</th>\n",
       "    </tr>\n",
       "    <tr>\n",
       "      <th>Month_Beginning_Year</th>\n",
       "      <th></th>\n",
       "      <th></th>\n",
       "      <th></th>\n",
       "      <th></th>\n",
       "    </tr>\n",
       "  </thead>\n",
       "  <tbody>\n",
       "    <tr>\n",
       "      <th>2001</th>\n",
       "      <td>7289.061917</td>\n",
       "      <td>4573.756116</td>\n",
       "      <td>3036.292182</td>\n",
       "      <td>189227.727617</td>\n",
       "    </tr>\n",
       "    <tr>\n",
       "      <th>2002</th>\n",
       "      <td>7206.850279</td>\n",
       "      <td>4548.055549</td>\n",
       "      <td>2994.784191</td>\n",
       "      <td>187113.878487</td>\n",
       "    </tr>\n",
       "    <tr>\n",
       "      <th>2003</th>\n",
       "      <td>6787.361841</td>\n",
       "      <td>4260.948153</td>\n",
       "      <td>2798.121381</td>\n",
       "      <td>175961.016959</td>\n",
       "    </tr>\n",
       "    <tr>\n",
       "      <th>2004</th>\n",
       "      <td>6539.225350</td>\n",
       "      <td>4221.471787</td>\n",
       "      <td>2779.293575</td>\n",
       "      <td>170907.525701</td>\n",
       "    </tr>\n",
       "    <tr>\n",
       "      <th>2005</th>\n",
       "      <td>6677.692582</td>\n",
       "      <td>4212.167280</td>\n",
       "      <td>2876.988787</td>\n",
       "      <td>173637.042553</td>\n",
       "    </tr>\n",
       "    <tr>\n",
       "      <th>2006</th>\n",
       "      <td>6412.358982</td>\n",
       "      <td>4056.940571</td>\n",
       "      <td>2736.814046</td>\n",
       "      <td>166152.870173</td>\n",
       "    </tr>\n",
       "    <tr>\n",
       "      <th>2007</th>\n",
       "      <td>6360.121850</td>\n",
       "      <td>4117.009302</td>\n",
       "      <td>2783.208870</td>\n",
       "      <td>166033.559221</td>\n",
       "    </tr>\n",
       "    <tr>\n",
       "      <th>2008</th>\n",
       "      <td>6781.461223</td>\n",
       "      <td>4478.887056</td>\n",
       "      <td>3060.687384</td>\n",
       "      <td>178263.178045</td>\n",
       "    </tr>\n",
       "    <tr>\n",
       "      <th>2009</th>\n",
       "      <td>6632.203456</td>\n",
       "      <td>4392.575809</td>\n",
       "      <td>3050.786561</td>\n",
       "      <td>174190.775645</td>\n",
       "    </tr>\n",
       "    <tr>\n",
       "      <th>2010</th>\n",
       "      <td>6909.495044</td>\n",
       "      <td>4398.647670</td>\n",
       "      <td>3063.731917</td>\n",
       "      <td>179935.715044</td>\n",
       "    </tr>\n",
       "    <tr>\n",
       "      <th>2011</th>\n",
       "      <td>7048.657023</td>\n",
       "      <td>4577.872146</td>\n",
       "      <td>3209.402809</td>\n",
       "      <td>184910.267185</td>\n",
       "    </tr>\n",
       "    <tr>\n",
       "      <th>2012</th>\n",
       "      <td>7115.453078</td>\n",
       "      <td>4640.229827</td>\n",
       "      <td>3315.770353</td>\n",
       "      <td>187185.579199</td>\n",
       "    </tr>\n",
       "    <tr>\n",
       "      <th>2013</th>\n",
       "      <td>7236.808423</td>\n",
       "      <td>4573.953008</td>\n",
       "      <td>3233.095123</td>\n",
       "      <td>188351.912603</td>\n",
       "    </tr>\n",
       "    <tr>\n",
       "      <th>2014</th>\n",
       "      <td>6781.880689</td>\n",
       "      <td>4295.126333</td>\n",
       "      <td>3092.754226</td>\n",
       "      <td>177517.146944</td>\n",
       "    </tr>\n",
       "    <tr>\n",
       "      <th>2015</th>\n",
       "      <td>6769.695776</td>\n",
       "      <td>4232.463483</td>\n",
       "      <td>3076.869461</td>\n",
       "      <td>176817.735543</td>\n",
       "    </tr>\n",
       "    <tr>\n",
       "      <th>2016</th>\n",
       "      <td>6348.608285</td>\n",
       "      <td>3895.154335</td>\n",
       "      <td>2858.076301</td>\n",
       "      <td>165650.003854</td>\n",
       "    </tr>\n",
       "    <tr>\n",
       "      <th>2017</th>\n",
       "      <td>6214.249740</td>\n",
       "      <td>3689.237338</td>\n",
       "      <td>2790.267532</td>\n",
       "      <td>161108.538312</td>\n",
       "    </tr>\n",
       "    <tr>\n",
       "      <th>2018</th>\n",
       "      <td>6031.658131</td>\n",
       "      <td>3583.357353</td>\n",
       "      <td>2670.493772</td>\n",
       "      <td>156056.311419</td>\n",
       "    </tr>\n",
       "  </tbody>\n",
       "</table>\n",
       "</div>"
      ],
      "text/plain": [
       "                      Avg_Weekday_Rides  Avg_Saturday_Rides  \\\n",
       "Month_Beginning_Year                                          \n",
       "2001                        7289.061917         4573.756116   \n",
       "2002                        7206.850279         4548.055549   \n",
       "2003                        6787.361841         4260.948153   \n",
       "2004                        6539.225350         4221.471787   \n",
       "2005                        6677.692582         4212.167280   \n",
       "2006                        6412.358982         4056.940571   \n",
       "2007                        6360.121850         4117.009302   \n",
       "2008                        6781.461223         4478.887056   \n",
       "2009                        6632.203456         4392.575809   \n",
       "2010                        6909.495044         4398.647670   \n",
       "2011                        7048.657023         4577.872146   \n",
       "2012                        7115.453078         4640.229827   \n",
       "2013                        7236.808423         4573.953008   \n",
       "2014                        6781.880689         4295.126333   \n",
       "2015                        6769.695776         4232.463483   \n",
       "2016                        6348.608285         3895.154335   \n",
       "2017                        6214.249740         3689.237338   \n",
       "2018                        6031.658131         3583.357353   \n",
       "\n",
       "                      Avg_Sunday-Holiday_Rides     MonthTotal  \n",
       "Month_Beginning_Year                                           \n",
       "2001                               3036.292182  189227.727617  \n",
       "2002                               2994.784191  187113.878487  \n",
       "2003                               2798.121381  175961.016959  \n",
       "2004                               2779.293575  170907.525701  \n",
       "2005                               2876.988787  173637.042553  \n",
       "2006                               2736.814046  166152.870173  \n",
       "2007                               2783.208870  166033.559221  \n",
       "2008                               3060.687384  178263.178045  \n",
       "2009                               3050.786561  174190.775645  \n",
       "2010                               3063.731917  179935.715044  \n",
       "2011                               3209.402809  184910.267185  \n",
       "2012                               3315.770353  187185.579199  \n",
       "2013                               3233.095123  188351.912603  \n",
       "2014                               3092.754226  177517.146944  \n",
       "2015                               3076.869461  176817.735543  \n",
       "2016                               2858.076301  165650.003854  \n",
       "2017                               2790.267532  161108.538312  \n",
       "2018                               2670.493772  156056.311419  "
      ]
     },
     "execution_count": 46,
     "metadata": {},
     "output_type": "execute_result"
    }
   ],
   "source": [
    "yearly_groups = data.iloc[:,3:8].groupby('Month_Beginning_Year').mean()\n",
    "yearly_groups"
   ]
  },
  {
   "cell_type": "code",
   "execution_count": 49,
   "id": "518b4e39",
   "metadata": {},
   "outputs": [
    {
     "data": {
      "image/png": "[encoded data removed]",
      "text/plain": [
       "<Figure size 432x288 with 1 Axes>"
      ]
     },
     "metadata": {
      "needs_background": "light"
     },
     "output_type": "display_data"
    }
   ],
   "source": [
    "fig, ax = plt.subplots()\n",
    "yearly_groups['MonthTotal'].plot(ax=ax)\n",
    "ax.xaxis.set_major_locator(MaxNLocator(integer=True))\n",
    "ax.set_title('Monthly Total Ridership on CTA buses from 2002 to 2018')\n",
    "plt.show()"
   ]
  },
  {
   "cell_type": "code",
   "execution_count": 51,
   "id": "de4020d4",
   "metadata": {},
   "outputs": [
    {
     "data": {
      "image/png": "[encoded data removed]",
      "text/plain": [
       "<Figure size 432x288 with 1 Axes>"
      ]
     },
     "metadata": {
      "needs_background": "light"
     },
     "output_type": "display_data"
    }
   ],
   "source": [
    "# 4. Now use the above grouped data to plot the average ridership during the weekdays, saturday and sunday/holidays by year.\n",
    "\n",
    "fig, ax = plt.subplots()\n",
    "yearly_groups.iloc[:,:-1].plot(ax=ax)\n",
    "ax.xaxis.set_major_locator(MaxNLocator(integer=True))\n",
    "ax.set_title('Monthly Total Ridership by Day Type on CTA buses from 2002 to 2018')\n",
    "plt.show()"
   ]
  },
  {
   "cell_type": "code",
   "execution_count": 53,
   "id": "41ebfd64",
   "metadata": {},
   "outputs": [
    {
     "data": {
      "text/html": [
       "<div>\n",
       "<style scoped>\n",
       "    .dataframe tbody tr th:only-of-type {\n",
       "        vertical-align: middle;\n",
       "    }\n",
       "\n",
       "    .dataframe tbody tr th {\n",
       "        vertical-align: top;\n",
       "    }\n",
       "\n",
       "    .dataframe thead th {\n",
       "        text-align: right;\n",
       "    }\n",
       "</style>\n",
       "<table border=\"1\" class=\"dataframe\">\n",
       "  <thead>\n",
       "    <tr style=\"text-align: right;\">\n",
       "      <th></th>\n",
       "      <th>route</th>\n",
       "      <th>routename</th>\n",
       "      <th>Month_Beginning</th>\n",
       "      <th>Avg_Weekday_Rides</th>\n",
       "      <th>Avg_Saturday_Rides</th>\n",
       "      <th>Avg_Sunday-Holiday_Rides</th>\n",
       "      <th>MonthTotal</th>\n",
       "      <th>Month_Beginning_Year</th>\n",
       "      <th>diff_week_saturday</th>\n",
       "      <th>diff_week_sunday</th>\n",
       "      <th>diff_sat_sunday</th>\n",
       "    </tr>\n",
       "  </thead>\n",
       "  <tbody>\n",
       "    <tr>\n",
       "      <th>0</th>\n",
       "      <td>1</td>\n",
       "      <td>Indiana/Hyde Park</td>\n",
       "      <td>2001-01-01</td>\n",
       "      <td>6982.6</td>\n",
       "      <td>0.0</td>\n",
       "      <td>0.0</td>\n",
       "      <td>153617</td>\n",
       "      <td>2001</td>\n",
       "      <td>6982.6</td>\n",
       "      <td>6982.6</td>\n",
       "      <td>0.0</td>\n",
       "    </tr>\n",
       "    <tr>\n",
       "      <th>1</th>\n",
       "      <td>2</td>\n",
       "      <td>Hyde Park Express</td>\n",
       "      <td>2001-01-01</td>\n",
       "      <td>1000.0</td>\n",
       "      <td>0.0</td>\n",
       "      <td>0.0</td>\n",
       "      <td>22001</td>\n",
       "      <td>2001</td>\n",
       "      <td>1000.0</td>\n",
       "      <td>1000.0</td>\n",
       "      <td>0.0</td>\n",
       "    </tr>\n",
       "    <tr>\n",
       "      <th>2</th>\n",
       "      <td>3</td>\n",
       "      <td>King Drive</td>\n",
       "      <td>2001-01-01</td>\n",
       "      <td>21406.5</td>\n",
       "      <td>13210.7</td>\n",
       "      <td>8725.3</td>\n",
       "      <td>567413</td>\n",
       "      <td>2001</td>\n",
       "      <td>8195.8</td>\n",
       "      <td>12681.2</td>\n",
       "      <td>4485.4</td>\n",
       "    </tr>\n",
       "    <tr>\n",
       "      <th>3</th>\n",
       "      <td>4</td>\n",
       "      <td>Cottage Grove</td>\n",
       "      <td>2001-01-01</td>\n",
       "      <td>22432.2</td>\n",
       "      <td>17994.0</td>\n",
       "      <td>10662.2</td>\n",
       "      <td>618796</td>\n",
       "      <td>2001</td>\n",
       "      <td>4438.2</td>\n",
       "      <td>11770.0</td>\n",
       "      <td>7331.8</td>\n",
       "    </tr>\n",
       "    <tr>\n",
       "      <th>4</th>\n",
       "      <td>6</td>\n",
       "      <td>Jackson Park Express</td>\n",
       "      <td>2001-01-01</td>\n",
       "      <td>18443.0</td>\n",
       "      <td>13088.2</td>\n",
       "      <td>7165.6</td>\n",
       "      <td>493926</td>\n",
       "      <td>2001</td>\n",
       "      <td>5354.8</td>\n",
       "      <td>11277.4</td>\n",
       "      <td>5922.6</td>\n",
       "    </tr>\n",
       "  </tbody>\n",
       "</table>\n",
       "</div>"
      ],
      "text/plain": [
       "  route             routename Month_Beginning  Avg_Weekday_Rides  \\\n",
       "0     1     Indiana/Hyde Park      2001-01-01             6982.6   \n",
       "1     2     Hyde Park Express      2001-01-01             1000.0   \n",
       "2     3            King Drive      2001-01-01            21406.5   \n",
       "3     4         Cottage Grove      2001-01-01            22432.2   \n",
       "4     6  Jackson Park Express      2001-01-01            18443.0   \n",
       "\n",
       "   Avg_Saturday_Rides  Avg_Sunday-Holiday_Rides  MonthTotal  \\\n",
       "0                 0.0                       0.0      153617   \n",
       "1                 0.0                       0.0       22001   \n",
       "2             13210.7                    8725.3      567413   \n",
       "3             17994.0                   10662.2      618796   \n",
       "4             13088.2                    7165.6      493926   \n",
       "\n",
       "   Month_Beginning_Year  diff_week_saturday  diff_week_sunday  diff_sat_sunday  \n",
       "0                  2001              6982.6            6982.6              0.0  \n",
       "1                  2001              1000.0            1000.0              0.0  \n",
       "2                  2001              8195.8           12681.2           4485.4  \n",
       "3                  2001              4438.2           11770.0           7331.8  \n",
       "4                  2001              5354.8           11277.4           5922.6  "
      ]
     },
     "execution_count": 53,
     "metadata": {},
     "output_type": "execute_result"
    }
   ],
   "source": [
    "# 5. Which routes have the highest difference in average ridership between weekdays and Saturdays?\n",
    "data['diff_week_saturday'] = data['Avg_Weekday_Rides'] - data['Avg_Saturday_Rides']\n",
    "data['diff_week_sunday'] = data['Avg_Weekday_Rides'] - data['Avg_Sunday-Holiday_Rides']\n",
    "data['diff_sat_sunday'] = data['Avg_Saturday_Rides'] - data['Avg_Sunday-Holiday_Rides']\n",
    "data.head()                                                  "
   ]
  },
  {
   "cell_type": "code",
   "execution_count": 56,
   "id": "bd678662",
   "metadata": {},
   "outputs": [
    {
     "name": "stdout",
     "output_type": "stream",
     "text": [
      "diff_week_saturday\n",
      "diff_week_sunday\n",
      "diff_sat_sunday\n"
     ]
    },
    {
     "data": {
      "text/html": [
       "<div>\n",
       "<style scoped>\n",
       "    .dataframe tbody tr th:only-of-type {\n",
       "        vertical-align: middle;\n",
       "    }\n",
       "\n",
       "    .dataframe tbody tr th {\n",
       "        vertical-align: top;\n",
       "    }\n",
       "\n",
       "    .dataframe thead th {\n",
       "        text-align: right;\n",
       "    }\n",
       "</style>\n",
       "<table border=\"1\" class=\"dataframe\">\n",
       "  <thead>\n",
       "    <tr style=\"text-align: right;\">\n",
       "      <th></th>\n",
       "      <th>diff_week_saturday</th>\n",
       "      <th>diff_week_sunday</th>\n",
       "      <th>diff_sat_sunday</th>\n",
       "    </tr>\n",
       "    <tr>\n",
       "      <th>routename</th>\n",
       "      <th></th>\n",
       "      <th></th>\n",
       "      <th></th>\n",
       "    </tr>\n",
       "  </thead>\n",
       "  <tbody>\n",
       "    <tr>\n",
       "      <th>111th/King Drive</th>\n",
       "      <td>104286.6</td>\n",
       "      <td>142535.0</td>\n",
       "      <td>38248.4</td>\n",
       "    </tr>\n",
       "    <tr>\n",
       "      <th>16th/18th</th>\n",
       "      <td>205568.8</td>\n",
       "      <td>269088.8</td>\n",
       "      <td>63520.0</td>\n",
       "    </tr>\n",
       "    <tr>\n",
       "      <th>31st</th>\n",
       "      <td>12376.0</td>\n",
       "      <td>12376.0</td>\n",
       "      <td>0.0</td>\n",
       "    </tr>\n",
       "    <tr>\n",
       "      <th>31st/35th</th>\n",
       "      <td>159550.3</td>\n",
       "      <td>213529.3</td>\n",
       "      <td>53979.0</td>\n",
       "    </tr>\n",
       "    <tr>\n",
       "      <th>35th</th>\n",
       "      <td>340682.7</td>\n",
       "      <td>520450.8</td>\n",
       "      <td>179768.1</td>\n",
       "    </tr>\n",
       "    <tr>\n",
       "      <th>...</th>\n",
       "      <td>...</td>\n",
       "      <td>...</td>\n",
       "      <td>...</td>\n",
       "    </tr>\n",
       "    <tr>\n",
       "      <th>Westchester</th>\n",
       "      <td>72463.7</td>\n",
       "      <td>72463.7</td>\n",
       "      <td>0.0</td>\n",
       "    </tr>\n",
       "    <tr>\n",
       "      <th>Western</th>\n",
       "      <td>586773.4</td>\n",
       "      <td>1824097.8</td>\n",
       "      <td>1237324.4</td>\n",
       "    </tr>\n",
       "    <tr>\n",
       "      <th>Western Express</th>\n",
       "      <td>1361169.4</td>\n",
       "      <td>1360965.6</td>\n",
       "      <td>-203.8</td>\n",
       "    </tr>\n",
       "    <tr>\n",
       "      <th>Wilson/Michigan Express</th>\n",
       "      <td>373766.5</td>\n",
       "      <td>606507.5</td>\n",
       "      <td>232741.0</td>\n",
       "    </tr>\n",
       "    <tr>\n",
       "      <th>Wrigley Field Express</th>\n",
       "      <td>7621.1</td>\n",
       "      <td>-16753.9</td>\n",
       "      <td>-24375.0</td>\n",
       "    </tr>\n",
       "  </tbody>\n",
       "</table>\n",
       "<p>189 rows × 3 columns</p>\n",
       "</div>"
      ],
      "text/plain": [
       "                         diff_week_saturday  diff_week_sunday  diff_sat_sunday\n",
       "routename                                                                     \n",
       "111th/King Drive                   104286.6          142535.0          38248.4\n",
       "16th/18th                          205568.8          269088.8          63520.0\n",
       "31st                                12376.0           12376.0              0.0\n",
       "31st/35th                          159550.3          213529.3          53979.0\n",
       "35th                               340682.7          520450.8         179768.1\n",
       "...                                     ...               ...              ...\n",
       "Westchester                         72463.7           72463.7              0.0\n",
       "Western                            586773.4         1824097.8        1237324.4\n",
       "Western Express                   1361169.4         1360965.6           -203.8\n",
       "Wilson/Michigan Express            373766.5          606507.5         232741.0\n",
       "Wrigley Field Express                7621.1          -16753.9         -24375.0\n",
       "\n",
       "[189 rows x 3 columns]"
      ]
     },
     "execution_count": 56,
     "metadata": {},
     "output_type": "execute_result"
    }
   ],
   "source": [
    "cols = ['diff_week_saturday', 'diff_week_sunday', 'diff_sat_sunday']\n",
    "\n",
    "total_byroutes = [ ]\n",
    "for i in cols:\n",
    "    print(i)\n",
    "    routes_grouped = data[['routename', i]].groupby('routename')\n",
    "    total_byroutes.append(routes_grouped.sum())\n",
    "\n",
    "totaldiff_byroutes = pd.concat(total_byroutes, axis=1)\n",
    "totaldiff_byroutes"
   ]
  },
  {
   "cell_type": "code",
   "execution_count": 57,
   "id": "b0cc0285",
   "metadata": {},
   "outputs": [
    {
     "data": {
      "text/plain": [
       "diff_week_saturday   -523944.0\n",
       "diff_week_sunday     -387917.1\n",
       "diff_sat_sunday       -77929.9\n",
       "dtype: float64"
      ]
     },
     "execution_count": 57,
     "metadata": {},
     "output_type": "execute_result"
    }
   ],
   "source": [
    "totaldiff_byroutes.abs()"
   ]
  },
  {
   "cell_type": "code",
   "execution_count": 61,
   "id": "748fe257",
   "metadata": {},
   "outputs": [],
   "source": [
    "def get_n_routes(diff_col, N=10, sort_asc=True):\n",
    "    if sort_asc:\n",
    "        get_n = diff_col.abs().sort_values(ascending=True)[:N]\n",
    "    else:\n",
    "        get_n = diff_col.abs().sort_values()[:N]\n",
    "    return get_n"
   ]
  },
  {
   "cell_type": "code",
   "execution_count": 64,
   "id": "46b3d8e2",
   "metadata": {},
   "outputs": [
    {
     "data": {
      "text/html": [
       "<div>\n",
       "<style scoped>\n",
       "    .dataframe tbody tr th:only-of-type {\n",
       "        vertical-align: middle;\n",
       "    }\n",
       "\n",
       "    .dataframe tbody tr th {\n",
       "        vertical-align: top;\n",
       "    }\n",
       "\n",
       "    .dataframe thead th {\n",
       "        text-align: right;\n",
       "    }\n",
       "</style>\n",
       "<table border=\"1\" class=\"dataframe\">\n",
       "  <thead>\n",
       "    <tr style=\"text-align: right;\">\n",
       "      <th></th>\n",
       "      <th>diff_week_saturday</th>\n",
       "      <th>diff_week_sunday</th>\n",
       "      <th>diff_sat_sunday</th>\n",
       "    </tr>\n",
       "  </thead>\n",
       "  <tbody>\n",
       "    <tr>\n",
       "      <th>31st</th>\n",
       "      <td>NaN</td>\n",
       "      <td>12376.0</td>\n",
       "      <td>NaN</td>\n",
       "    </tr>\n",
       "    <tr>\n",
       "      <th>69th Bus Pre-Paid Area</th>\n",
       "      <td>5131.6</td>\n",
       "      <td>5133.6</td>\n",
       "      <td>NaN</td>\n",
       "    </tr>\n",
       "    <tr>\n",
       "      <th>69th-Garfield Express Shuttle</th>\n",
       "      <td>2148.6</td>\n",
       "      <td>4346.6</td>\n",
       "      <td>NaN</td>\n",
       "    </tr>\n",
       "    <tr>\n",
       "      <th>79th-Garfield Express Shuttle</th>\n",
       "      <td>5787.3</td>\n",
       "      <td>10641.7</td>\n",
       "      <td>NaN</td>\n",
       "    </tr>\n",
       "    <tr>\n",
       "      <th>87th-Garfield Express Shuttle</th>\n",
       "      <td>5827.7</td>\n",
       "      <td>9460.6</td>\n",
       "      <td>NaN</td>\n",
       "    </tr>\n",
       "    <tr>\n",
       "      <th>Central/Sherman</th>\n",
       "      <td>926.5</td>\n",
       "      <td>1260.8</td>\n",
       "      <td>NaN</td>\n",
       "    </tr>\n",
       "    <tr>\n",
       "      <th>Cermak-Roosevelt Express</th>\n",
       "      <td>4163.2</td>\n",
       "      <td>1457.2</td>\n",
       "      <td>NaN</td>\n",
       "    </tr>\n",
       "    <tr>\n",
       "      <th>Chicago Manufacturing Campus</th>\n",
       "      <td>2594.1</td>\n",
       "      <td>2651.5</td>\n",
       "      <td>NaN</td>\n",
       "    </tr>\n",
       "    <tr>\n",
       "      <th>Chicago/Golf</th>\n",
       "      <td>NaN</td>\n",
       "      <td>NaN</td>\n",
       "      <td>0.0</td>\n",
       "    </tr>\n",
       "    <tr>\n",
       "      <th>Chinatown/Pilsen Shuttle</th>\n",
       "      <td>4229.5</td>\n",
       "      <td>5480.7</td>\n",
       "      <td>NaN</td>\n",
       "    </tr>\n",
       "    <tr>\n",
       "      <th>Cicero Express</th>\n",
       "      <td>NaN</td>\n",
       "      <td>NaN</td>\n",
       "      <td>0.0</td>\n",
       "    </tr>\n",
       "    <tr>\n",
       "      <th>Clarendon/LaSalle Express</th>\n",
       "      <td>NaN</td>\n",
       "      <td>NaN</td>\n",
       "      <td>0.0</td>\n",
       "    </tr>\n",
       "    <tr>\n",
       "      <th>Clarendon/Michigan Express</th>\n",
       "      <td>NaN</td>\n",
       "      <td>NaN</td>\n",
       "      <td>0.0</td>\n",
       "    </tr>\n",
       "    <tr>\n",
       "      <th>Cottage Grove Express</th>\n",
       "      <td>NaN</td>\n",
       "      <td>NaN</td>\n",
       "      <td>0.0</td>\n",
       "    </tr>\n",
       "    <tr>\n",
       "      <th>Cumberland/East River</th>\n",
       "      <td>NaN</td>\n",
       "      <td>NaN</td>\n",
       "      <td>0.0</td>\n",
       "    </tr>\n",
       "    <tr>\n",
       "      <th>Dan Ryan Local Shuttle</th>\n",
       "      <td>8743.8</td>\n",
       "      <td>NaN</td>\n",
       "      <td>NaN</td>\n",
       "    </tr>\n",
       "    <tr>\n",
       "      <th>Dan Ryan OWL Shuttle</th>\n",
       "      <td>1265.4</td>\n",
       "      <td>162.0</td>\n",
       "      <td>NaN</td>\n",
       "    </tr>\n",
       "    <tr>\n",
       "      <th>Dodge</th>\n",
       "      <td>NaN</td>\n",
       "      <td>NaN</td>\n",
       "      <td>0.0</td>\n",
       "    </tr>\n",
       "    <tr>\n",
       "      <th>Evanston Circulator</th>\n",
       "      <td>NaN</td>\n",
       "      <td>NaN</td>\n",
       "      <td>0.0</td>\n",
       "    </tr>\n",
       "    <tr>\n",
       "      <th>Foster-Canfield</th>\n",
       "      <td>NaN</td>\n",
       "      <td>NaN</td>\n",
       "      <td>0.0</td>\n",
       "    </tr>\n",
       "    <tr>\n",
       "      <th>Garfield Express</th>\n",
       "      <td>NaN</td>\n",
       "      <td>NaN</td>\n",
       "      <td>0.0</td>\n",
       "    </tr>\n",
       "    <tr>\n",
       "      <th>Goose Island Express</th>\n",
       "      <td>NaN</td>\n",
       "      <td>NaN</td>\n",
       "      <td>0.0</td>\n",
       "    </tr>\n",
       "    <tr>\n",
       "      <th>King Drive Express</th>\n",
       "      <td>NaN</td>\n",
       "      <td>NaN</td>\n",
       "      <td>0.0</td>\n",
       "    </tr>\n",
       "    <tr>\n",
       "      <th>LaSalle</th>\n",
       "      <td>NaN</td>\n",
       "      <td>NaN</td>\n",
       "      <td>0.0</td>\n",
       "    </tr>\n",
       "    <tr>\n",
       "      <th>Main Shuttle</th>\n",
       "      <td>NaN</td>\n",
       "      <td>11144.7</td>\n",
       "      <td>NaN</td>\n",
       "    </tr>\n",
       "    <tr>\n",
       "      <th>North Milwaukee</th>\n",
       "      <td>NaN</td>\n",
       "      <td>NaN</td>\n",
       "      <td>0.0</td>\n",
       "    </tr>\n",
       "    <tr>\n",
       "      <th>Ogilvie/Streeterville Express</th>\n",
       "      <td>NaN</td>\n",
       "      <td>NaN</td>\n",
       "      <td>0.0</td>\n",
       "    </tr>\n",
       "    <tr>\n",
       "      <th>Ogilvie/Wacker Express</th>\n",
       "      <td>NaN</td>\n",
       "      <td>NaN</td>\n",
       "      <td>0.0</td>\n",
       "    </tr>\n",
       "    <tr>\n",
       "      <th>Pershing Shuttle</th>\n",
       "      <td>393.0</td>\n",
       "      <td>350.0</td>\n",
       "      <td>NaN</td>\n",
       "    </tr>\n",
       "    <tr>\n",
       "      <th>Pullman Shuttle</th>\n",
       "      <td>1090.9</td>\n",
       "      <td>3754.5</td>\n",
       "      <td>NaN</td>\n",
       "    </tr>\n",
       "    <tr>\n",
       "      <th>ROAD CALL</th>\n",
       "      <td>0.0</td>\n",
       "      <td>1.0</td>\n",
       "      <td>NaN</td>\n",
       "    </tr>\n",
       "    <tr>\n",
       "      <th>Ridge/Grant</th>\n",
       "      <td>NaN</td>\n",
       "      <td>NaN</td>\n",
       "      <td>0.0</td>\n",
       "    </tr>\n",
       "    <tr>\n",
       "      <th>Sedgwick</th>\n",
       "      <td>NaN</td>\n",
       "      <td>NaN</td>\n",
       "      <td>0.0</td>\n",
       "    </tr>\n",
       "    <tr>\n",
       "      <th>Sheridan/LaSalle Express</th>\n",
       "      <td>NaN</td>\n",
       "      <td>NaN</td>\n",
       "      <td>0.0</td>\n",
       "    </tr>\n",
       "    <tr>\n",
       "      <th>South Pulaski Limited</th>\n",
       "      <td>NaN</td>\n",
       "      <td>NaN</td>\n",
       "      <td>0.0</td>\n",
       "    </tr>\n",
       "    <tr>\n",
       "      <th>South Shore Night Bus</th>\n",
       "      <td>9845.4</td>\n",
       "      <td>9394.8</td>\n",
       "      <td>NaN</td>\n",
       "    </tr>\n",
       "    <tr>\n",
       "      <th>Special Dest Signs</th>\n",
       "      <td>3.1</td>\n",
       "      <td>3.1</td>\n",
       "      <td>NaN</td>\n",
       "    </tr>\n",
       "    <tr>\n",
       "      <th>Touhy Supplement</th>\n",
       "      <td>8.7</td>\n",
       "      <td>88.1</td>\n",
       "      <td>NaN</td>\n",
       "    </tr>\n",
       "    <tr>\n",
       "      <th>U. of Chicago/Garfield Stations</th>\n",
       "      <td>7533.4</td>\n",
       "      <td>12035.8</td>\n",
       "      <td>NaN</td>\n",
       "    </tr>\n",
       "    <tr>\n",
       "      <th>U. of Chicago/Lakeview Express</th>\n",
       "      <td>2326.4</td>\n",
       "      <td>7562.9</td>\n",
       "      <td>NaN</td>\n",
       "    </tr>\n",
       "    <tr>\n",
       "      <th>UIC-Pilsen Express</th>\n",
       "      <td>7314.3</td>\n",
       "      <td>7780.0</td>\n",
       "      <td>NaN</td>\n",
       "    </tr>\n",
       "    <tr>\n",
       "      <th>Wrigley Field Express</th>\n",
       "      <td>7621.1</td>\n",
       "      <td>NaN</td>\n",
       "      <td>NaN</td>\n",
       "    </tr>\n",
       "  </tbody>\n",
       "</table>\n",
       "</div>"
      ],
      "text/plain": [
       "                                 diff_week_saturday  diff_week_sunday  \\\n",
       "31st                                            NaN           12376.0   \n",
       "69th Bus Pre-Paid Area                       5131.6            5133.6   \n",
       "69th-Garfield Express Shuttle                2148.6            4346.6   \n",
       "79th-Garfield Express Shuttle                5787.3           10641.7   \n",
       "87th-Garfield Express Shuttle                5827.7            9460.6   \n",
       "Central/Sherman                               926.5            1260.8   \n",
       "Cermak-Roosevelt Express                     4163.2            1457.2   \n",
       "Chicago Manufacturing Campus                 2594.1            2651.5   \n",
       "Chicago/Golf                                    NaN               NaN   \n",
       "Chinatown/Pilsen Shuttle                     4229.5            5480.7   \n",
       "Cicero Express                                  NaN               NaN   \n",
       "Clarendon/LaSalle Express                       NaN               NaN   \n",
       "Clarendon/Michigan Express                      NaN               NaN   \n",
       "Cottage Grove Express                           NaN               NaN   \n",
       "Cumberland/East River                           NaN               NaN   \n",
       "Dan Ryan Local Shuttle                       8743.8               NaN   \n",
       "Dan Ryan OWL Shuttle                         1265.4             162.0   \n",
       "Dodge                                           NaN               NaN   \n",
       "Evanston Circulator                             NaN               NaN   \n",
       "Foster-Canfield                                 NaN               NaN   \n",
       "Garfield Express                                NaN               NaN   \n",
       "Goose Island Express                            NaN               NaN   \n",
       "King Drive Express                              NaN               NaN   \n",
       "LaSalle                                         NaN               NaN   \n",
       "Main Shuttle                                    NaN           11144.7   \n",
       "North Milwaukee                                 NaN               NaN   \n",
       "Ogilvie/Streeterville Express                   NaN               NaN   \n",
       "Ogilvie/Wacker Express                          NaN               NaN   \n",
       "Pershing Shuttle                              393.0             350.0   \n",
       "Pullman Shuttle                              1090.9            3754.5   \n",
       "ROAD CALL                                       0.0               1.0   \n",
       "Ridge/Grant                                     NaN               NaN   \n",
       "Sedgwick                                        NaN               NaN   \n",
       "Sheridan/LaSalle Express                        NaN               NaN   \n",
       "South Pulaski Limited                           NaN               NaN   \n",
       "South Shore Night Bus                        9845.4            9394.8   \n",
       "Special Dest Signs                              3.1               3.1   \n",
       "Touhy Supplement                                8.7              88.1   \n",
       "U. of Chicago/Garfield Stations              7533.4           12035.8   \n",
       "U. of Chicago/Lakeview Express               2326.4            7562.9   \n",
       "UIC-Pilsen Express                           7314.3            7780.0   \n",
       "Wrigley Field Express                        7621.1               NaN   \n",
       "\n",
       "                                 diff_sat_sunday  \n",
       "31st                                         NaN  \n",
       "69th Bus Pre-Paid Area                       NaN  \n",
       "69th-Garfield Express Shuttle                NaN  \n",
       "79th-Garfield Express Shuttle                NaN  \n",
       "87th-Garfield Express Shuttle                NaN  \n",
       "Central/Sherman                              NaN  \n",
       "Cermak-Roosevelt Express                     NaN  \n",
       "Chicago Manufacturing Campus                 NaN  \n",
       "Chicago/Golf                                 0.0  \n",
       "Chinatown/Pilsen Shuttle                     NaN  \n",
       "Cicero Express                               0.0  \n",
       "Clarendon/LaSalle Express                    0.0  \n",
       "Clarendon/Michigan Express                   0.0  \n",
       "Cottage Grove Express                        0.0  \n",
       "Cumberland/East River                        0.0  \n",
       "Dan Ryan Local Shuttle                       NaN  \n",
       "Dan Ryan OWL Shuttle                         NaN  \n",
       "Dodge                                        0.0  \n",
       "Evanston Circulator                          0.0  \n",
       "Foster-Canfield                              0.0  \n",
       "Garfield Express                             0.0  \n",
       "Goose Island Express                         0.0  \n",
       "King Drive Express                           0.0  \n",
       "LaSalle                                      0.0  \n",
       "Main Shuttle                                 NaN  \n",
       "North Milwaukee                              0.0  \n",
       "Ogilvie/Streeterville Express                0.0  \n",
       "Ogilvie/Wacker Express                       0.0  \n",
       "Pershing Shuttle                             NaN  \n",
       "Pullman Shuttle                              NaN  \n",
       "ROAD CALL                                    NaN  \n",
       "Ridge/Grant                                  0.0  \n",
       "Sedgwick                                     0.0  \n",
       "Sheridan/LaSalle Express                     0.0  \n",
       "South Pulaski Limited                        0.0  \n",
       "South Shore Night Bus                        NaN  \n",
       "Special Dest Signs                           NaN  \n",
       "Touhy Supplement                             NaN  \n",
       "U. of Chicago/Garfield Stations              NaN  \n",
       "U. of Chicago/Lakeview Express               NaN  \n",
       "UIC-Pilsen Express                           NaN  \n",
       "Wrigley Field Express                        NaN  "
      ]
     },
     "execution_count": 64,
     "metadata": {},
     "output_type": "execute_result"
    }
   ],
   "source": [
    "totaldiff_byroutes.apply(get_n_routes, N=20, sort_asc=False)"
   ]
  },
  {
   "cell_type": "code",
   "execution_count": 65,
   "id": "ecaea636",
   "metadata": {},
   "outputs": [
    {
     "data": {
      "text/plain": [
       "routename\n",
       "LaSalle                          0.0\n",
       "South Pulaski Limited            0.0\n",
       "King Drive Express               0.0\n",
       "Chicago/Golf                     0.0\n",
       "Sheridan/LaSalle Express         0.0\n",
       "Cicero Express                   0.0\n",
       "Clarendon/LaSalle Express        0.0\n",
       "Clarendon/Michigan Express       0.0\n",
       "Sedgwick                         0.0\n",
       "Ridge/Grant                      0.0\n",
       "Cottage Grove Express            0.0\n",
       "Cumberland/East River            0.0\n",
       "Dodge                            0.0\n",
       "Ogilvie/Wacker Express           0.0\n",
       "Evanston Circulator              0.0\n",
       "Ogilvie/Streeterville Express    0.0\n",
       "Foster-Canfield                  0.0\n",
       "North Milwaukee                  0.0\n",
       "Garfield Express                 0.0\n",
       "Goose Island Express             0.0\n",
       "Name: diff_sat_sunday, dtype: float64"
      ]
     },
     "execution_count": 65,
     "metadata": {},
     "output_type": "execute_result"
    }
   ],
   "source": [
    "get_n_routes(totaldiff_byroutes['diff_sat_sunday'], N=20, sort_asc=False)"
   ]
  },
  {
   "cell_type": "code",
   "execution_count": 50,
   "id": "685edb2f",
   "metadata": {},
   "outputs": [
    {
     "name": "stdout",
     "output_type": "stream",
     "text": [
      "Object `Holidays` not found.\n",
      "Object `week` not found.\n"
     ]
    }
   ],
   "source": [
    "# 6. Which routes have the highest difference in average ridership between weekdays and Sundays/Holidays?\n",
    "# answered above"
   ]
  },
  {
   "cell_type": "code",
   "execution_count": null,
   "id": "616b96b9",
   "metadata": {},
   "outputs": [],
   "source": [
    "# 7. Which routes have the most consistent average ridership between weekdays, Saturdays and Sundays/Holidays? \n",
    "# i.e. are there any route that are not affected by the day of the week?"
   ]
  },
  {
   "cell_type": "code",
   "execution_count": 66,
   "id": "649da404",
   "metadata": {},
   "outputs": [
    {
     "data": {
      "text/html": [
       "<div>\n",
       "<style scoped>\n",
       "    .dataframe tbody tr th:only-of-type {\n",
       "        vertical-align: middle;\n",
       "    }\n",
       "\n",
       "    .dataframe tbody tr th {\n",
       "        vertical-align: top;\n",
       "    }\n",
       "\n",
       "    .dataframe thead th {\n",
       "        text-align: right;\n",
       "    }\n",
       "</style>\n",
       "<table border=\"1\" class=\"dataframe\">\n",
       "  <thead>\n",
       "    <tr style=\"text-align: right;\">\n",
       "      <th></th>\n",
       "      <th>diff_week_saturday</th>\n",
       "      <th>diff_week_sunday</th>\n",
       "      <th>diff_sat_sunday</th>\n",
       "    </tr>\n",
       "    <tr>\n",
       "      <th>routename</th>\n",
       "      <th></th>\n",
       "      <th></th>\n",
       "      <th></th>\n",
       "    </tr>\n",
       "  </thead>\n",
       "  <tbody>\n",
       "    <tr>\n",
       "      <th>111th/King Drive</th>\n",
       "      <td>104286.6</td>\n",
       "      <td>142535.0</td>\n",
       "      <td>38248.4</td>\n",
       "    </tr>\n",
       "    <tr>\n",
       "      <th>16th/18th</th>\n",
       "      <td>205568.8</td>\n",
       "      <td>269088.8</td>\n",
       "      <td>63520.0</td>\n",
       "    </tr>\n",
       "    <tr>\n",
       "      <th>31st</th>\n",
       "      <td>12376.0</td>\n",
       "      <td>12376.0</td>\n",
       "      <td>0.0</td>\n",
       "    </tr>\n",
       "    <tr>\n",
       "      <th>31st/35th</th>\n",
       "      <td>159550.3</td>\n",
       "      <td>213529.3</td>\n",
       "      <td>53979.0</td>\n",
       "    </tr>\n",
       "    <tr>\n",
       "      <th>35th</th>\n",
       "      <td>340682.7</td>\n",
       "      <td>520450.8</td>\n",
       "      <td>179768.1</td>\n",
       "    </tr>\n",
       "    <tr>\n",
       "      <th>...</th>\n",
       "      <td>...</td>\n",
       "      <td>...</td>\n",
       "      <td>...</td>\n",
       "    </tr>\n",
       "    <tr>\n",
       "      <th>Westchester</th>\n",
       "      <td>72463.7</td>\n",
       "      <td>72463.7</td>\n",
       "      <td>0.0</td>\n",
       "    </tr>\n",
       "    <tr>\n",
       "      <th>Western</th>\n",
       "      <td>586773.4</td>\n",
       "      <td>1824097.8</td>\n",
       "      <td>1237324.4</td>\n",
       "    </tr>\n",
       "    <tr>\n",
       "      <th>Western Express</th>\n",
       "      <td>1361169.4</td>\n",
       "      <td>1360965.6</td>\n",
       "      <td>-203.8</td>\n",
       "    </tr>\n",
       "    <tr>\n",
       "      <th>Wilson/Michigan Express</th>\n",
       "      <td>373766.5</td>\n",
       "      <td>606507.5</td>\n",
       "      <td>232741.0</td>\n",
       "    </tr>\n",
       "    <tr>\n",
       "      <th>Wrigley Field Express</th>\n",
       "      <td>7621.1</td>\n",
       "      <td>-16753.9</td>\n",
       "      <td>-24375.0</td>\n",
       "    </tr>\n",
       "  </tbody>\n",
       "</table>\n",
       "<p>189 rows × 3 columns</p>\n",
       "</div>"
      ],
      "text/plain": [
       "                         diff_week_saturday  diff_week_sunday  diff_sat_sunday\n",
       "routename                                                                     \n",
       "111th/King Drive                   104286.6          142535.0          38248.4\n",
       "16th/18th                          205568.8          269088.8          63520.0\n",
       "31st                                12376.0           12376.0              0.0\n",
       "31st/35th                          159550.3          213529.3          53979.0\n",
       "35th                               340682.7          520450.8         179768.1\n",
       "...                                     ...               ...              ...\n",
       "Westchester                         72463.7           72463.7              0.0\n",
       "Western                            586773.4         1824097.8        1237324.4\n",
       "Western Express                   1361169.4         1360965.6           -203.8\n",
       "Wilson/Michigan Express            373766.5          606507.5         232741.0\n",
       "Wrigley Field Express                7621.1          -16753.9         -24375.0\n",
       "\n",
       "[189 rows x 3 columns]"
      ]
     },
     "execution_count": 66,
     "metadata": {},
     "output_type": "execute_result"
    }
   ],
   "source": [
    "totaldiff_byroutes"
   ]
  },
  {
   "cell_type": "code",
   "execution_count": 67,
   "id": "8cad4850",
   "metadata": {},
   "outputs": [],
   "source": [
    "def consistency(col, N=5000):\n",
    "    consistent_rows = col[col.abs()<=N].index\n",
    "    return consistent_rows"
   ]
  },
  {
   "cell_type": "code",
   "execution_count": 76,
   "id": "95f8186e",
   "metadata": {},
   "outputs": [
    {
     "name": "stdout",
     "output_type": "stream",
     "text": [
      "0 diff_week_saturday\n",
      "1 diff_week_sunday\n",
      "2 diff_sat_sunday\n"
     ]
    }
   ],
   "source": [
    "consistent_routes = []\n",
    "ncol = totaldiff_byroutes.shape[1]\n",
    "\n",
    "for i,j in zip(range(0,ncol), totaldiff_byroutes.columns):\n",
    "    print(i,j)\n",
    "    consistent_index = totaldiff_byroutes.apply(consistency, N=7000)\n",
    "    consistent_routes.append( totaldiff_byroutes[j].loc[consistent_index[i]] )"
   ]
  },
  {
   "cell_type": "code",
   "execution_count": 77,
   "id": "039c011b",
   "metadata": {},
   "outputs": [
    {
     "data": {
      "text/html": [
       "<div>\n",
       "<style scoped>\n",
       "    .dataframe tbody tr th:only-of-type {\n",
       "        vertical-align: middle;\n",
       "    }\n",
       "\n",
       "    .dataframe tbody tr th {\n",
       "        vertical-align: top;\n",
       "    }\n",
       "\n",
       "    .dataframe thead th {\n",
       "        text-align: right;\n",
       "    }\n",
       "</style>\n",
       "<table border=\"1\" class=\"dataframe\">\n",
       "  <thead>\n",
       "    <tr style=\"text-align: right;\">\n",
       "      <th></th>\n",
       "      <th>diff_week_saturday</th>\n",
       "      <th>diff_week_sunday</th>\n",
       "      <th>diff_sat_sunday</th>\n",
       "    </tr>\n",
       "  </thead>\n",
       "  <tbody>\n",
       "    <tr>\n",
       "      <th>69th Bus Pre-Paid Area</th>\n",
       "      <td>5131.6</td>\n",
       "      <td>5133.6</td>\n",
       "      <td>2.0</td>\n",
       "    </tr>\n",
       "    <tr>\n",
       "      <th>69th-Garfield Express Shuttle</th>\n",
       "      <td>2148.6</td>\n",
       "      <td>4346.6</td>\n",
       "      <td>2198.0</td>\n",
       "    </tr>\n",
       "    <tr>\n",
       "      <th>79th-Garfield Express Shuttle</th>\n",
       "      <td>5787.3</td>\n",
       "      <td>NaN</td>\n",
       "      <td>4854.4</td>\n",
       "    </tr>\n",
       "    <tr>\n",
       "      <th>87th-Garfield Express Shuttle</th>\n",
       "      <td>5827.7</td>\n",
       "      <td>NaN</td>\n",
       "      <td>3632.9</td>\n",
       "    </tr>\n",
       "    <tr>\n",
       "      <th>Central/Sherman</th>\n",
       "      <td>-926.5</td>\n",
       "      <td>-1260.8</td>\n",
       "      <td>-334.3</td>\n",
       "    </tr>\n",
       "    <tr>\n",
       "      <th>...</th>\n",
       "      <td>...</td>\n",
       "      <td>...</td>\n",
       "      <td>...</td>\n",
       "    </tr>\n",
       "    <tr>\n",
       "      <th>West 65th</th>\n",
       "      <td>NaN</td>\n",
       "      <td>NaN</td>\n",
       "      <td>0.0</td>\n",
       "    </tr>\n",
       "    <tr>\n",
       "      <th>West Cermak</th>\n",
       "      <td>NaN</td>\n",
       "      <td>NaN</td>\n",
       "      <td>1.5</td>\n",
       "    </tr>\n",
       "    <tr>\n",
       "      <th>West Loop/South Loop</th>\n",
       "      <td>NaN</td>\n",
       "      <td>NaN</td>\n",
       "      <td>0.0</td>\n",
       "    </tr>\n",
       "    <tr>\n",
       "      <th>Westchester</th>\n",
       "      <td>NaN</td>\n",
       "      <td>NaN</td>\n",
       "      <td>0.0</td>\n",
       "    </tr>\n",
       "    <tr>\n",
       "      <th>Western Express</th>\n",
       "      <td>NaN</td>\n",
       "      <td>NaN</td>\n",
       "      <td>-203.8</td>\n",
       "    </tr>\n",
       "  </tbody>\n",
       "</table>\n",
       "<p>78 rows × 3 columns</p>\n",
       "</div>"
      ],
      "text/plain": [
       "                               diff_week_saturday  diff_week_sunday  \\\n",
       "69th Bus Pre-Paid Area                     5131.6            5133.6   \n",
       "69th-Garfield Express Shuttle              2148.6            4346.6   \n",
       "79th-Garfield Express Shuttle              5787.3               NaN   \n",
       "87th-Garfield Express Shuttle              5827.7               NaN   \n",
       "Central/Sherman                            -926.5           -1260.8   \n",
       "...                                           ...               ...   \n",
       "West 65th                                     NaN               NaN   \n",
       "West Cermak                                   NaN               NaN   \n",
       "West Loop/South Loop                          NaN               NaN   \n",
       "Westchester                                   NaN               NaN   \n",
       "Western Express                               NaN               NaN   \n",
       "\n",
       "                               diff_sat_sunday  \n",
       "69th Bus Pre-Paid Area                     2.0  \n",
       "69th-Garfield Express Shuttle           2198.0  \n",
       "79th-Garfield Express Shuttle           4854.4  \n",
       "87th-Garfield Express Shuttle           3632.9  \n",
       "Central/Sherman                         -334.3  \n",
       "...                                        ...  \n",
       "West 65th                                  0.0  \n",
       "West Cermak                                1.5  \n",
       "West Loop/South Loop                       0.0  \n",
       "Westchester                                0.0  \n",
       "Western Express                         -203.8  \n",
       "\n",
       "[78 rows x 3 columns]"
      ]
     },
     "execution_count": 77,
     "metadata": {},
     "output_type": "execute_result"
    }
   ],
   "source": [
    "pd.concat(consistent_routes, axis=1)"
   ]
  },
  {
   "cell_type": "markdown",
   "id": "beec55cd",
   "metadata": {},
   "source": [
    "### Pivot Table\n",
    "\n",
    "The popular Pivot Table feature of Excel can also be replicated in `pandas` using the `pivot_table` method. The  method takes the data to pivot, the column in the data that should be the row of the pivot table, the column(s) that will be the columns of the pivot table, the column identifying the value to aggregate and the function to use for aggregation. "
   ]
  },
  {
   "cell_type": "code",
   "execution_count": 79,
   "id": "c8dd0a7c",
   "metadata": {},
   "outputs": [
    {
     "data": {
      "text/html": [
       "<div>\n",
       "<style scoped>\n",
       "    .dataframe tbody tr th:only-of-type {\n",
       "        vertical-align: middle;\n",
       "    }\n",
       "\n",
       "    .dataframe tbody tr th {\n",
       "        vertical-align: top;\n",
       "    }\n",
       "\n",
       "    .dataframe thead tr th {\n",
       "        text-align: left;\n",
       "    }\n",
       "\n",
       "    .dataframe thead tr:last-of-type th {\n",
       "        text-align: right;\n",
       "    }\n",
       "</style>\n",
       "<table border=\"1\" class=\"dataframe\">\n",
       "  <thead>\n",
       "    <tr>\n",
       "      <th></th>\n",
       "      <th colspan=\"12\" halign=\"left\">MonthTotal</th>\n",
       "    </tr>\n",
       "    <tr>\n",
       "      <th>Month_Beginning_month</th>\n",
       "      <th>1</th>\n",
       "      <th>2</th>\n",
       "      <th>3</th>\n",
       "      <th>4</th>\n",
       "      <th>5</th>\n",
       "      <th>6</th>\n",
       "      <th>7</th>\n",
       "      <th>8</th>\n",
       "      <th>9</th>\n",
       "      <th>10</th>\n",
       "      <th>11</th>\n",
       "      <th>12</th>\n",
       "    </tr>\n",
       "    <tr>\n",
       "      <th>Month_Beginning_year</th>\n",
       "      <th></th>\n",
       "      <th></th>\n",
       "      <th></th>\n",
       "      <th></th>\n",
       "      <th></th>\n",
       "      <th></th>\n",
       "      <th></th>\n",
       "      <th></th>\n",
       "      <th></th>\n",
       "      <th></th>\n",
       "      <th></th>\n",
       "      <th></th>\n",
       "    </tr>\n",
       "  </thead>\n",
       "  <tbody>\n",
       "    <tr>\n",
       "      <th>2001</th>\n",
       "      <td>191682.569231</td>\n",
       "      <td>180008.114504</td>\n",
       "      <td>202056.333333</td>\n",
       "      <td>189006.106061</td>\n",
       "      <td>200182.601504</td>\n",
       "      <td>187035.924812</td>\n",
       "      <td>185020.507576</td>\n",
       "      <td>184324.962406</td>\n",
       "      <td>184282.171642</td>\n",
       "      <td>201919.833333</td>\n",
       "      <td>188562.340909</td>\n",
       "      <td>176664.303030</td>\n",
       "    </tr>\n",
       "    <tr>\n",
       "      <th>2002</th>\n",
       "      <td>186997.113636</td>\n",
       "      <td>178375.167939</td>\n",
       "      <td>187451.431818</td>\n",
       "      <td>190126.901515</td>\n",
       "      <td>195393.708955</td>\n",
       "      <td>180937.801471</td>\n",
       "      <td>184205.235294</td>\n",
       "      <td>185049.191176</td>\n",
       "      <td>193105.808824</td>\n",
       "      <td>206207.705882</td>\n",
       "      <td>181213.029412</td>\n",
       "      <td>176199.044118</td>\n",
       "    </tr>\n",
       "    <tr>\n",
       "      <th>2003</th>\n",
       "      <td>179165.701493</td>\n",
       "      <td>168556.231343</td>\n",
       "      <td>181676.970370</td>\n",
       "      <td>179275.511111</td>\n",
       "      <td>184536.043796</td>\n",
       "      <td>171917.528571</td>\n",
       "      <td>177907.066667</td>\n",
       "      <td>169338.891304</td>\n",
       "      <td>180159.774648</td>\n",
       "      <td>191909.283688</td>\n",
       "      <td>162295.535714</td>\n",
       "      <td>164920.928571</td>\n",
       "    </tr>\n",
       "    <tr>\n",
       "      <th>2004</th>\n",
       "      <td>163615.028777</td>\n",
       "      <td>162704.900000</td>\n",
       "      <td>181756.892857</td>\n",
       "      <td>171816.617021</td>\n",
       "      <td>171949.531469</td>\n",
       "      <td>171766.465278</td>\n",
       "      <td>166555.993007</td>\n",
       "      <td>162190.280822</td>\n",
       "      <td>179752.808219</td>\n",
       "      <td>186020.576389</td>\n",
       "      <td>171247.461538</td>\n",
       "      <td>161263.629371</td>\n",
       "    </tr>\n",
       "    <tr>\n",
       "      <th>2005</th>\n",
       "      <td>161472.569444</td>\n",
       "      <td>165635.729167</td>\n",
       "      <td>178743.951389</td>\n",
       "      <td>178096.659722</td>\n",
       "      <td>176994.794521</td>\n",
       "      <td>172665.896552</td>\n",
       "      <td>166595.317241</td>\n",
       "      <td>172662.727891</td>\n",
       "      <td>186046.816327</td>\n",
       "      <td>190225.736111</td>\n",
       "      <td>171809.524138</td>\n",
       "      <td>162478.250000</td>\n",
       "    </tr>\n",
       "    <tr>\n",
       "      <th>2006</th>\n",
       "      <td>159650.793103</td>\n",
       "      <td>158469.262069</td>\n",
       "      <td>181230.143836</td>\n",
       "      <td>162986.267123</td>\n",
       "      <td>177722.168919</td>\n",
       "      <td>163903.105960</td>\n",
       "      <td>158669.520270</td>\n",
       "      <td>161644.835526</td>\n",
       "      <td>169699.493421</td>\n",
       "      <td>175796.307190</td>\n",
       "      <td>167131.980000</td>\n",
       "      <td>156727.589404</td>\n",
       "    </tr>\n",
       "    <tr>\n",
       "      <th>2007</th>\n",
       "      <td>158595.183007</td>\n",
       "      <td>142559.398693</td>\n",
       "      <td>175356.618421</td>\n",
       "      <td>162704.558442</td>\n",
       "      <td>177779.316129</td>\n",
       "      <td>164675.909091</td>\n",
       "      <td>163282.642857</td>\n",
       "      <td>165791.522581</td>\n",
       "      <td>170422.019231</td>\n",
       "      <td>187522.670968</td>\n",
       "      <td>167717.136364</td>\n",
       "      <td>155644.850649</td>\n",
       "    </tr>\n",
       "    <tr>\n",
       "      <th>2008</th>\n",
       "      <td>161955.807947</td>\n",
       "      <td>161156.598684</td>\n",
       "      <td>172276.427632</td>\n",
       "      <td>184973.980392</td>\n",
       "      <td>187152.207792</td>\n",
       "      <td>178615.116883</td>\n",
       "      <td>187269.171053</td>\n",
       "      <td>182051.230263</td>\n",
       "      <td>189574.123377</td>\n",
       "      <td>202679.627451</td>\n",
       "      <td>171604.526316</td>\n",
       "      <td>159266.828947</td>\n",
       "    </tr>\n",
       "    <tr>\n",
       "      <th>2009</th>\n",
       "      <td>164051.013158</td>\n",
       "      <td>164146.125000</td>\n",
       "      <td>182435.556291</td>\n",
       "      <td>174261.921053</td>\n",
       "      <td>179606.483660</td>\n",
       "      <td>171605.857143</td>\n",
       "      <td>174963.254902</td>\n",
       "      <td>167717.474026</td>\n",
       "      <td>180726.227273</td>\n",
       "      <td>190903.726667</td>\n",
       "      <td>175525.610738</td>\n",
       "      <td>164446.718121</td>\n",
       "    </tr>\n",
       "    <tr>\n",
       "      <th>2010</th>\n",
       "      <td>168908.081081</td>\n",
       "      <td>161130.597315</td>\n",
       "      <td>192687.568345</td>\n",
       "      <td>185029.442857</td>\n",
       "      <td>181874.723404</td>\n",
       "      <td>180938.428571</td>\n",
       "      <td>178714.550000</td>\n",
       "      <td>182715.707143</td>\n",
       "      <td>189212.482270</td>\n",
       "      <td>196662.543478</td>\n",
       "      <td>179465.800000</td>\n",
       "      <td>163862.827338</td>\n",
       "    </tr>\n",
       "    <tr>\n",
       "      <th>2011</th>\n",
       "      <td>174595.215827</td>\n",
       "      <td>163577.877698</td>\n",
       "      <td>198571.268116</td>\n",
       "      <td>182876.115108</td>\n",
       "      <td>188321.935714</td>\n",
       "      <td>187221.913669</td>\n",
       "      <td>178593.742857</td>\n",
       "      <td>189062.758865</td>\n",
       "      <td>193413.929078</td>\n",
       "      <td>198528.647482</td>\n",
       "      <td>185121.028777</td>\n",
       "      <td>178975.848921</td>\n",
       "    </tr>\n",
       "    <tr>\n",
       "      <th>2012</th>\n",
       "      <td>178384.782609</td>\n",
       "      <td>185859.107914</td>\n",
       "      <td>201808.231884</td>\n",
       "      <td>185649.057971</td>\n",
       "      <td>193856.321429</td>\n",
       "      <td>184229.050000</td>\n",
       "      <td>180039.690647</td>\n",
       "      <td>189745.794326</td>\n",
       "      <td>186888.659574</td>\n",
       "      <td>205264.492857</td>\n",
       "      <td>186221.323741</td>\n",
       "      <td>168258.085714</td>\n",
       "    </tr>\n",
       "    <tr>\n",
       "      <th>2013</th>\n",
       "      <td>192483.614173</td>\n",
       "      <td>184558.724409</td>\n",
       "      <td>200014.779528</td>\n",
       "      <td>202087.653543</td>\n",
       "      <td>197548.592593</td>\n",
       "      <td>183551.007407</td>\n",
       "      <td>183128.437037</td>\n",
       "      <td>184120.588235</td>\n",
       "      <td>187021.789855</td>\n",
       "      <td>199629.625000</td>\n",
       "      <td>178684.570312</td>\n",
       "      <td>167303.421875</td>\n",
       "    </tr>\n",
       "    <tr>\n",
       "      <th>2014</th>\n",
       "      <td>160137.598425</td>\n",
       "      <td>168318.484375</td>\n",
       "      <td>190071.007812</td>\n",
       "      <td>183523.700787</td>\n",
       "      <td>190023.343750</td>\n",
       "      <td>172813.085938</td>\n",
       "      <td>173572.410853</td>\n",
       "      <td>170717.868217</td>\n",
       "      <td>188014.341085</td>\n",
       "      <td>198291.804688</td>\n",
       "      <td>164755.759690</td>\n",
       "      <td>169979.132812</td>\n",
       "    </tr>\n",
       "    <tr>\n",
       "      <th>2015</th>\n",
       "      <td>167105.401575</td>\n",
       "      <td>162483.218750</td>\n",
       "      <td>191411.456693</td>\n",
       "      <td>183556.196850</td>\n",
       "      <td>182984.210938</td>\n",
       "      <td>179720.359375</td>\n",
       "      <td>177210.328125</td>\n",
       "      <td>172042.445312</td>\n",
       "      <td>182426.038462</td>\n",
       "      <td>192683.992248</td>\n",
       "      <td>167170.775194</td>\n",
       "      <td>163185.961538</td>\n",
       "    </tr>\n",
       "    <tr>\n",
       "      <th>2016</th>\n",
       "      <td>158483.715385</td>\n",
       "      <td>165692.449612</td>\n",
       "      <td>178756.192308</td>\n",
       "      <td>165915.323077</td>\n",
       "      <td>170133.030769</td>\n",
       "      <td>166340.553846</td>\n",
       "      <td>157339.449612</td>\n",
       "      <td>164210.046154</td>\n",
       "      <td>171288.712121</td>\n",
       "      <td>176018.630769</td>\n",
       "      <td>162720.286822</td>\n",
       "      <td>150495.625000</td>\n",
       "    </tr>\n",
       "    <tr>\n",
       "      <th>2017</th>\n",
       "      <td>153340.905512</td>\n",
       "      <td>154858.796875</td>\n",
       "      <td>173420.598425</td>\n",
       "      <td>157605.834646</td>\n",
       "      <td>169127.325581</td>\n",
       "      <td>162655.279070</td>\n",
       "      <td>152702.403101</td>\n",
       "      <td>159874.184615</td>\n",
       "      <td>167603.223077</td>\n",
       "      <td>175312.687500</td>\n",
       "      <td>160717.687500</td>\n",
       "      <td>146000.421875</td>\n",
       "    </tr>\n",
       "    <tr>\n",
       "      <th>2018</th>\n",
       "      <td>150500.055118</td>\n",
       "      <td>144171.562500</td>\n",
       "      <td>164127.173228</td>\n",
       "      <td>159991.511811</td>\n",
       "      <td>165849.007752</td>\n",
       "      <td>153758.015504</td>\n",
       "      <td>152571.186047</td>\n",
       "      <td>154002.290076</td>\n",
       "      <td>159575.713178</td>\n",
       "      <td>NaN</td>\n",
       "      <td>NaN</td>\n",
       "      <td>NaN</td>\n",
       "    </tr>\n",
       "  </tbody>\n",
       "</table>\n",
       "</div>"
      ],
      "text/plain": [
       "                          MonthTotal                                \\\n",
       "Month_Beginning_month             1              2              3    \n",
       "Month_Beginning_year                                                 \n",
       "2001                   191682.569231  180008.114504  202056.333333   \n",
       "2002                   186997.113636  178375.167939  187451.431818   \n",
       "2003                   179165.701493  168556.231343  181676.970370   \n",
       "2004                   163615.028777  162704.900000  181756.892857   \n",
       "2005                   161472.569444  165635.729167  178743.951389   \n",
       "2006                   159650.793103  158469.262069  181230.143836   \n",
       "2007                   158595.183007  142559.398693  175356.618421   \n",
       "2008                   161955.807947  161156.598684  172276.427632   \n",
       "2009                   164051.013158  164146.125000  182435.556291   \n",
       "2010                   168908.081081  161130.597315  192687.568345   \n",
       "2011                   174595.215827  163577.877698  198571.268116   \n",
       "2012                   178384.782609  185859.107914  201808.231884   \n",
       "2013                   192483.614173  184558.724409  200014.779528   \n",
       "2014                   160137.598425  168318.484375  190071.007812   \n",
       "2015                   167105.401575  162483.218750  191411.456693   \n",
       "2016                   158483.715385  165692.449612  178756.192308   \n",
       "2017                   153340.905512  154858.796875  173420.598425   \n",
       "2018                   150500.055118  144171.562500  164127.173228   \n",
       "\n",
       "                                                                    \\\n",
       "Month_Beginning_month             4              5              6    \n",
       "Month_Beginning_year                                                 \n",
       "2001                   189006.106061  200182.601504  187035.924812   \n",
       "2002                   190126.901515  195393.708955  180937.801471   \n",
       "2003                   179275.511111  184536.043796  171917.528571   \n",
       "2004                   171816.617021  171949.531469  171766.465278   \n",
       "2005                   178096.659722  176994.794521  172665.896552   \n",
       "2006                   162986.267123  177722.168919  163903.105960   \n",
       "2007                   162704.558442  177779.316129  164675.909091   \n",
       "2008                   184973.980392  187152.207792  178615.116883   \n",
       "2009                   174261.921053  179606.483660  171605.857143   \n",
       "2010                   185029.442857  181874.723404  180938.428571   \n",
       "2011                   182876.115108  188321.935714  187221.913669   \n",
       "2012                   185649.057971  193856.321429  184229.050000   \n",
       "2013                   202087.653543  197548.592593  183551.007407   \n",
       "2014                   183523.700787  190023.343750  172813.085938   \n",
       "2015                   183556.196850  182984.210938  179720.359375   \n",
       "2016                   165915.323077  170133.030769  166340.553846   \n",
       "2017                   157605.834646  169127.325581  162655.279070   \n",
       "2018                   159991.511811  165849.007752  153758.015504   \n",
       "\n",
       "                                                                    \\\n",
       "Month_Beginning_month             7              8              9    \n",
       "Month_Beginning_year                                                 \n",
       "2001                   185020.507576  184324.962406  184282.171642   \n",
       "2002                   184205.235294  185049.191176  193105.808824   \n",
       "2003                   177907.066667  169338.891304  180159.774648   \n",
       "2004                   166555.993007  162190.280822  179752.808219   \n",
       "2005                   166595.317241  172662.727891  186046.816327   \n",
       "2006                   158669.520270  161644.835526  169699.493421   \n",
       "2007                   163282.642857  165791.522581  170422.019231   \n",
       "2008                   187269.171053  182051.230263  189574.123377   \n",
       "2009                   174963.254902  167717.474026  180726.227273   \n",
       "2010                   178714.550000  182715.707143  189212.482270   \n",
       "2011                   178593.742857  189062.758865  193413.929078   \n",
       "2012                   180039.690647  189745.794326  186888.659574   \n",
       "2013                   183128.437037  184120.588235  187021.789855   \n",
       "2014                   173572.410853  170717.868217  188014.341085   \n",
       "2015                   177210.328125  172042.445312  182426.038462   \n",
       "2016                   157339.449612  164210.046154  171288.712121   \n",
       "2017                   152702.403101  159874.184615  167603.223077   \n",
       "2018                   152571.186047  154002.290076  159575.713178   \n",
       "\n",
       "                                                                    \n",
       "Month_Beginning_month             10             11             12  \n",
       "Month_Beginning_year                                                \n",
       "2001                   201919.833333  188562.340909  176664.303030  \n",
       "2002                   206207.705882  181213.029412  176199.044118  \n",
       "2003                   191909.283688  162295.535714  164920.928571  \n",
       "2004                   186020.576389  171247.461538  161263.629371  \n",
       "2005                   190225.736111  171809.524138  162478.250000  \n",
       "2006                   175796.307190  167131.980000  156727.589404  \n",
       "2007                   187522.670968  167717.136364  155644.850649  \n",
       "2008                   202679.627451  171604.526316  159266.828947  \n",
       "2009                   190903.726667  175525.610738  164446.718121  \n",
       "2010                   196662.543478  179465.800000  163862.827338  \n",
       "2011                   198528.647482  185121.028777  178975.848921  \n",
       "2012                   205264.492857  186221.323741  168258.085714  \n",
       "2013                   199629.625000  178684.570312  167303.421875  \n",
       "2014                   198291.804688  164755.759690  169979.132812  \n",
       "2015                   192683.992248  167170.775194  163185.961538  \n",
       "2016                   176018.630769  162720.286822  150495.625000  \n",
       "2017                   175312.687500  160717.687500  146000.421875  \n",
       "2018                             NaN            NaN            NaN  "
      ]
     },
     "execution_count": 79,
     "metadata": {},
     "output_type": "execute_result"
    }
   ],
   "source": [
    "data['Month_Beginning'] = pd.to_datetime(data['Month_Beginning'], format='%m/%d/%Y')\n",
    "data['Month_Beginning_year'] = data['Month_Beginning'].dt.year\n",
    "data['Month_Beginning_month'] = data['Month_Beginning'].dt.month\n",
    "\n",
    "ridership_overtime = pd.pivot_table(data=data.iloc[:,1:], \n",
    "                                    index=['Month_Beginning_year'], \n",
    "                                    columns=['Month_Beginning_month'],\n",
    "                                    values=['MonthTotal'],\n",
    "                                    aggfunc=np.mean)\n",
    "ridership_overtime"
   ]
  },
  {
   "cell_type": "markdown",
   "id": "1dfaa767",
   "metadata": {},
   "source": [
    "Additional features are available in the `pivot_table` function such as filling-in the missing values in the data, which is set to NaN by default. Refer to the [official documentation](https://pandas.pydata.org/docs/reference/api/pandas.pivot_table.html) for usage. \n",
    "\n",
    "Now, with the above data, we can create a plot such that we can see the ridership trend of each month over the years. In order to automatically generate the names of the month we can use the `datetime` module"
   ]
  },
  {
   "cell_type": "code",
   "execution_count": 80,
   "id": "1d1de989",
   "metadata": {},
   "outputs": [
    {
     "data": {
      "text/plain": [
       "['diff_week_saturday', 'diff_week_sunday', 'diff_sat_sunday']"
      ]
     },
     "execution_count": 80,
     "metadata": {},
     "output_type": "execute_result"
    }
   ],
   "source": [
    "import datetime as dt #move up\n",
    "\n",
    "cols"
   ]
  },
  {
   "cell_type": "code",
   "execution_count": 81,
   "id": "aa676879",
   "metadata": {},
   "outputs": [
    {
     "name": "stdout",
     "output_type": "stream",
     "text": [
      "diff_week_saturday\n",
      "diff_week_sunday\n",
      "diff_sat_sunday\n"
     ]
    }
   ],
   "source": [
    "for i in cols:\n",
    "    print(i)"
   ]
  },
  {
   "cell_type": "code",
   "execution_count": 82,
   "id": "98482628",
   "metadata": {},
   "outputs": [
    {
     "name": "stdout",
     "output_type": "stream",
     "text": [
      "diff_week_saturday\n",
      "diff_week_sunday\n",
      "diff_sat_sunday\n"
     ]
    },
    {
     "data": {
      "text/plain": [
       "[None, None, None]"
      ]
     },
     "execution_count": 82,
     "metadata": {},
     "output_type": "execute_result"
    }
   ],
   "source": [
    "[print(i) for i in cols]"
   ]
  },
  {
   "cell_type": "code",
   "execution_count": 85,
   "id": "7d3758c5",
   "metadata": {},
   "outputs": [
    {
     "data": {
      "text/plain": [
       "['January',\n",
       " 'February',\n",
       " 'March',\n",
       " 'April',\n",
       " 'May',\n",
       " 'June',\n",
       " 'July',\n",
       " 'August',\n",
       " 'September',\n",
       " 'October',\n",
       " 'November',\n",
       " 'December']"
      ]
     },
     "execution_count": 85,
     "metadata": {},
     "output_type": "execute_result"
    }
   ],
   "source": [
    "[dt.date(2022, m, 1).strftime('%B') for m in range(1,13)]"
   ]
  },
  {
   "cell_type": "code",
   "execution_count": 90,
   "id": "36b2184b",
   "metadata": {},
   "outputs": [
    {
     "data": {
      "image/png": "[encoded data removed]",
      "text/plain": [
       "<Figure size 1080x576 with 1 Axes>"
      ]
     },
     "metadata": {
      "needs_background": "light"
     },
     "output_type": "display_data"
    }
   ],
   "source": [
    "months = [dt.date(2022, m, 1).strftime('%B') for m in range(1, 13)] # generate names of the months of a year\n",
    "\n",
    "fig, ax = plt.subplots(figsize=(15,8))\n",
    "ridership_overtime.plot(kind='line', style=['r*-','bo-'], ax=ax) # added style for some line so that we can get distinct lines\n",
    "plt.legend(months, ncol=3, loc='lower left', title='Month of the year',) # show legend in 3 columns\n",
    "ax.xaxis.set_major_locator(MaxNLocator(integer=True))\n",
    "plt.show()"
   ]
  },
  {
   "cell_type": "markdown",
   "id": "9428583a",
   "metadata": {},
   "source": [
    "### Modelling the Data\n",
    "\n",
    "Now that we have explored the data, let's focus on the modelling part. There are many ways to model the data and the best way really depends on the problem you are trying to solve. Let's say for example, we want to know if it is possible to use the information of the ridership on Weekdays and Saturdays to predict the ridership on Sundays and Holidays.\n",
    "\n",
    "**Note:** Obviously, ridership on Sundays and Holidays depend on many other factors besides ridership on Weekdays and Saturdays. The modelling is for the purpose of demonstration only. \n",
    "\n",
    "The first part of modelling the data is that the data must be clean and any item in the data must be numeric. This is because machine learning models or statistical models in general do NOT accept data that have textual values or missing values. So such data must be processed and transformed to some reasonable numeric representation before they are used in modelling. \n",
    "\n",
    "In our example, we will be using the two numeric columns and they have no missing data. So we are ready to use this data. We will begin by separating the variable that will be predicted and the variables that we will use to predict. The former is commonly refered to as the target (y) and the latter as the features (X)."
   ]
  },
  {
   "cell_type": "code",
   "execution_count": 91,
   "id": "49783b0a",
   "metadata": {},
   "outputs": [],
   "source": [
    "X = data[['Avg_Weekday_Rides','Avg_Saturday_Rides']]\n",
    "y = data['Avg_Sunday-Holiday_Rides']"
   ]
  },
  {
   "cell_type": "code",
   "execution_count": 92,
   "id": "2f5b1497",
   "metadata": {},
   "outputs": [
    {
     "data": {
      "text/html": [
       "<div>\n",
       "<style scoped>\n",
       "    .dataframe tbody tr th:only-of-type {\n",
       "        vertical-align: middle;\n",
       "    }\n",
       "\n",
       "    .dataframe tbody tr th {\n",
       "        vertical-align: top;\n",
       "    }\n",
       "\n",
       "    .dataframe thead th {\n",
       "        text-align: right;\n",
       "    }\n",
       "</style>\n",
       "<table border=\"1\" class=\"dataframe\">\n",
       "  <thead>\n",
       "    <tr style=\"text-align: right;\">\n",
       "      <th></th>\n",
       "      <th>Avg_Weekday_Rides</th>\n",
       "      <th>Avg_Saturday_Rides</th>\n",
       "    </tr>\n",
       "  </thead>\n",
       "  <tbody>\n",
       "    <tr>\n",
       "      <th>0</th>\n",
       "      <td>6982.6</td>\n",
       "      <td>0.0</td>\n",
       "    </tr>\n",
       "    <tr>\n",
       "      <th>1</th>\n",
       "      <td>1000.0</td>\n",
       "      <td>0.0</td>\n",
       "    </tr>\n",
       "    <tr>\n",
       "      <th>2</th>\n",
       "      <td>21406.5</td>\n",
       "      <td>13210.7</td>\n",
       "    </tr>\n",
       "    <tr>\n",
       "      <th>3</th>\n",
       "      <td>22432.2</td>\n",
       "      <td>17994.0</td>\n",
       "    </tr>\n",
       "    <tr>\n",
       "      <th>4</th>\n",
       "      <td>18443.0</td>\n",
       "      <td>13088.2</td>\n",
       "    </tr>\n",
       "  </tbody>\n",
       "</table>\n",
       "</div>"
      ],
      "text/plain": [
       "   Avg_Weekday_Rides  Avg_Saturday_Rides\n",
       "0             6982.6                 0.0\n",
       "1             1000.0                 0.0\n",
       "2            21406.5             13210.7\n",
       "3            22432.2             17994.0\n",
       "4            18443.0             13088.2"
      ]
     },
     "execution_count": 92,
     "metadata": {},
     "output_type": "execute_result"
    }
   ],
   "source": [
    "X.head()"
   ]
  },
  {
   "cell_type": "code",
   "execution_count": 93,
   "id": "e9e66810",
   "metadata": {},
   "outputs": [
    {
     "data": {
      "text/plain": [
       "0        0.0\n",
       "1        0.0\n",
       "2     8725.3\n",
       "3    10662.2\n",
       "4     7165.6\n",
       "Name: Avg_Sunday-Holiday_Rides, dtype: float64"
      ]
     },
     "execution_count": 93,
     "metadata": {},
     "output_type": "execute_result"
    }
   ],
   "source": [
    "y[:5]"
   ]
  },
  {
   "cell_type": "markdown",
   "id": "f0829d91",
   "metadata": {},
   "source": [
    "So, now that we have our features and target, we will do some basic preprocessing of the target so that it can be in the form required by the machine learning functions available in the `sklearn` modules. \n",
    "\n",
    "For this `sklearn` package provides `preprocessing` submodule that has the `LabelEncoder` function. Let's import this functions and apply the transformation to the target data."
   ]
  },
  {
   "cell_type": "code",
   "execution_count": 95,
   "id": "de81cc96",
   "metadata": {},
   "outputs": [],
   "source": [
    "# from sklearn.preprocessing import LabelEncoder"
   ]
  },
  {
   "cell_type": "code",
   "execution_count": 96,
   "id": "048ea4de",
   "metadata": {},
   "outputs": [
    {
     "data": {
      "text/plain": [
       "array([    0,     0, 14339, 15596, 12987], dtype=int64)"
      ]
     },
     "execution_count": 96,
     "metadata": {},
     "output_type": "execute_result"
    }
   ],
   "source": [
    "# labels = LabelEncoder()      # create an instance of the label encoder\n",
    "# y = labels.fit_transform(y)  # transform the target \n",
    "\n",
    "# y[:5]"
   ]
  },
  {
   "cell_type": "markdown",
   "id": "88137021",
   "metadata": {},
   "source": [
    "The transformation has converted the pandas `series` to a numpy `ndarray`, which is the data type offered by the `numpy` package. \n",
    "\n",
    "Next, we will split the feature data into training and test set. This is while we use data to train a machine learning model, its performance should be reported on a data that the model has never seen before. This ensures that the model is able to generalize i.e. it has not just learned the training data very well but also learned some patterns that can help predict future data points. This is very important if we want to use the model in the real world.\n",
    "\n",
    "Usually a 70-30 or 80-20 split is recommended. In our case we will keep 3/4 of the data for training and 1/4 for testing. Let's import the `train_test_split` function available via the `model_selection` submodule of `sklearn` library. This function takes the feature and target data and give us the desired splits of the data. "
   ]
  },
  {
   "cell_type": "code",
   "execution_count": 97,
   "id": "8c902602",
   "metadata": {},
   "outputs": [],
   "source": [
    "from sklearn.model_selection import train_test_split as tts"
   ]
  },
  {
   "cell_type": "code",
   "execution_count": 98,
   "id": "7d04c563",
   "metadata": {},
   "outputs": [],
   "source": [
    "X_train, X_test, y_train, y_test = tts(X,              # feature data\n",
    "                                       y,              # target data \n",
    "                                       test_size=.25,  # size of the test set\n",
    "                                       random_state=42)# set a random number to get the exact split next time "
   ]
  },
  {
   "cell_type": "code",
   "execution_count": 99,
   "id": "1b82a18d",
   "metadata": {},
   "outputs": [
    {
     "name": "stdout",
     "output_type": "stream",
     "text": [
      "(22155, 2) (7386, 2) (22155,) (7386,)\n"
     ]
    }
   ],
   "source": [
    "print(X_train.shape, X_test.shape, y_train.shape, y_test.shape)"
   ]
  },
  {
   "cell_type": "markdown",
   "id": "aa3d588a",
   "metadata": {},
   "source": [
    "You can see that 1/4 of the data for both features and target are now separated as the test set and the remainder is part of the training set. \n",
    "\n",
    "Let's now import the `Linear_Regression` model from the `linear_model` submodule of `sklearn`, which we will use to fit our data."
   ]
  },
  {
   "cell_type": "code",
   "execution_count": 100,
   "id": "7e320b55",
   "metadata": {},
   "outputs": [],
   "source": [
    "from sklearn.linear_model import LinearRegression"
   ]
  },
  {
   "cell_type": "markdown",
   "id": "cceaf96e",
   "metadata": {},
   "source": [
    "Most of the functions in sklearn can be used in the same way:\n",
    "\n",
    "1. Create an instance of the object in use.\n",
    "2. Use `fit` or `fit_transform` method to fit or transform the data as needed. \n",
    "\n",
    "Unlike the `LabelEncoder` which was used to transform the target, here we want to fit the training data to the model, so we will use the `fit` method instead."
   ]
  },
  {
   "cell_type": "code",
   "execution_count": 101,
   "id": "faed3541",
   "metadata": {},
   "outputs": [
    {
     "data": {
      "text/plain": [
       "LinearRegression()"
      ]
     },
     "execution_count": 101,
     "metadata": {},
     "output_type": "execute_result"
    }
   ],
   "source": [
    "model = LinearRegression()\n",
    "model.fit(X_train,y_train)"
   ]
  },
  {
   "cell_type": "markdown",
   "id": "66100790",
   "metadata": {},
   "source": [
    "Now that the data has been fit to the linear model, some model property information will now be available in the `model` object. One of these properties is the `score` method, which returns the coefficient of determination of the prediction, also known as R squared. It is the proportion of the variation in the dependent variable that is predictable from the independent variable. We can input the training data to get this score.\n",
    "\n",
    "Other properties of interest are the intercept of the and the coefficients for the linear regression model. We can get these information with the `intercept_` and `coef_` methods respectively."
   ]
  },
  {
   "cell_type": "code",
   "execution_count": 102,
   "id": "66a7d058",
   "metadata": {},
   "outputs": [
    {
     "data": {
      "text/plain": [
       "0.8977802667808867"
      ]
     },
     "execution_count": 102,
     "metadata": {},
     "output_type": "execute_result"
    }
   ],
   "source": [
    "# return the coefficient of determination of the prediction\n",
    "model.score(X_train, y_train)"
   ]
  },
  {
   "cell_type": "code",
   "execution_count": 103,
   "id": "c3eb8231",
   "metadata": {},
   "outputs": [
    {
     "data": {
      "text/plain": [
       "1000.2147089125338"
      ]
     },
     "execution_count": 103,
     "metadata": {},
     "output_type": "execute_result"
    }
   ],
   "source": [
    "model.intercept_"
   ]
  },
  {
   "cell_type": "code",
   "execution_count": 104,
   "id": "049725e4",
   "metadata": {},
   "outputs": [
    {
     "data": {
      "text/plain": [
       "array([0.0927381 , 0.88792299])"
      ]
     },
     "execution_count": 104,
     "metadata": {},
     "output_type": "execute_result"
    }
   ],
   "source": [
    "model.coef_"
   ]
  },
  {
   "cell_type": "markdown",
   "id": "e16b8e76",
   "metadata": {},
   "source": [
    "While the model R Squared value looks good, this value only measures the fit of training data to the model. How well will this model perform on an unseen test data is the next step of evaluation. \n",
    "\n",
    "Regression models often use the mean squared error metric to evaluate the performance on an unseen data. To calculate this we can use `mean_squared_error` function available throuhg the `metrics` submodule of `sklearn`. The function takes the model prediction on a given data and the actual target value for that dataset. Therefore, we first need to generate predictions from our model on the test set using the `predict` method."
   ]
  },
  {
   "cell_type": "code",
   "execution_count": 106,
   "id": "a16b97b0",
   "metadata": {},
   "outputs": [],
   "source": [
    "from sklearn.metrics import mean_squared_error as mse"
   ]
  },
  {
   "cell_type": "code",
   "execution_count": 107,
   "id": "cb63384f",
   "metadata": {},
   "outputs": [
    {
     "name": "stdout",
     "output_type": "stream",
     "text": [
      "3302132.0346907857\n"
     ]
    }
   ],
   "source": [
    "y_pred_test = model.predict(X_test)\n",
    "\n",
    "mse_lrmodel = mse(y_pred_test, y_test)\n",
    "print(mse_lrmodel)"
   ]
  },
  {
   "cell_type": "markdown",
   "id": "16fd681d",
   "metadata": {},
   "source": [
    "How do we know this is a good enough value?\n",
    "\n",
    "In machine learning, we usually have benchmark model against which we can test the performance. In this case we only have one model, so we can create another model and see which one performs better. \n",
    "\n",
    "We can repeat what we did earlier on another model or we can create a for-loop such that the exact same operation goes through all the models in a list. The latter is obviously better as we do not have to write the same code over and over again. It is also easier from readability perspective."
   ]
  },
  {
   "cell_type": "code",
   "execution_count": 108,
   "id": "ed411f9a",
   "metadata": {},
   "outputs": [],
   "source": [
    "from sklearn.tree import DecisionTreeRegressor"
   ]
  },
  {
   "cell_type": "code",
   "execution_count": 109,
   "id": "e5888016",
   "metadata": {},
   "outputs": [
    {
     "data": {
      "text/plain": [
       "[('LR', LinearRegression()), ('DT', DecisionTreeRegressor())]"
      ]
     },
     "execution_count": 109,
     "metadata": {},
     "output_type": "execute_result"
    }
   ],
   "source": [
    "# initialize an empty list to add sklearn model objects\n",
    "models = []\n",
    "\n",
    "# add the sklearn model objects to the list one by one\n",
    "# while adding the model also give it a name so put the name and model in a tuple\n",
    "models.append(('LR', LinearRegression())) \n",
    "models.append(('DT', DecisionTreeRegressor())) # Ensemble method - collection of many decision trees\n",
    "models"
   ]
  },
  {
   "cell_type": "code",
   "execution_count": 112,
   "id": "7894718b",
   "metadata": {},
   "outputs": [
    {
     "name": "stdout",
     "output_type": "stream",
     "text": [
      "LR\n",
      "DT\n"
     ]
    },
    {
     "data": {
      "text/plain": [
       "{'LR': 3302132.0346907857, 'DT': 974608.9334007207}"
      ]
     },
     "execution_count": 112,
     "metadata": {},
     "output_type": "execute_result"
    }
   ],
   "source": [
    "scores = {}\n",
    "for name, model in models:\n",
    "    print(name)\n",
    "    model.fit(X_train, y_train)\n",
    "    y_pred_test = model.predict(X_test)\n",
    "    mse_score = mse(y_pred_test, y_test)\n",
    "    scores[name] = mse_score\n",
    "scores"
   ]
  },
  {
   "cell_type": "markdown",
   "id": "9689c66f",
   "metadata": {},
   "source": [
    "Note that the Decision Tree Regression model has lower mean squared error than the Linear Regression model and therefore, is better.\n",
    "\n",
    "It might also be a good idea to store the fitted model, so that  you can explore more details of the model rather than just the scores. See [here](https://scikit-learn.org/stable/modules/tree.html#tree-regression) to learn more about decision tree model properties and `sklearn` features available to explore the model details."
   ]
  },
  {
   "cell_type": "markdown",
   "id": "c0232b34",
   "metadata": {},
   "source": [
    "### Adding Categorical Features to our Model\n",
    "\n",
    "The above model does not have the information about the ridership pattern specific to a route. So, adding this information might help predict the Sunday-Holiday ridership behavior better. \n",
    "\n",
    "There are two ways we can continue further: \n",
    "1. Isolate data for each route and repeat the above modelling process on that subset.\n",
    "2. Add the routenames to features and create a model in which case we must convert the text to numeric values.\n",
    "\n",
    "Let's try the first option on one route."
   ]
  },
  {
   "cell_type": "code",
   "execution_count": null,
   "id": "1e9ca0e5",
   "metadata": {
    "scrolled": true
   },
   "outputs": [],
   "source": [
    "oneroute = data[data['routename']=='16th/18th']\n",
    "oneroute.head()"
   ]
  },
  {
   "cell_type": "code",
   "execution_count": null,
   "id": "d826cb80",
   "metadata": {},
   "outputs": [],
   "source": [
    "def create_model(target_features_data, targetname, models):\n",
    "    \n",
    "    y = target_features_data[targetname]\n",
    "    X = target_features_data.drop(targetname, axis=1)\n",
    "\n",
    "    labels = LabelEncoder()\n",
    "    y = labels.fit_transform(y)\n",
    "    print(X.shape, y.shape)\n",
    "    \n",
    "    X_train, X_test, y_train, y_test = tts(X, y, test_size=1/4, random_state=42)\n",
    "\n",
    "    scores = {}\n",
    "    for name, model in models:\n",
    "        print(f'fitting model: {model}')\n",
    "        model.fit(X_train, y_train)\n",
    "        y_pred_test = model.predict(X_test)\n",
    "        mse_score = mse(y_pred_test, y_test)\n",
    "        scores[name] = mse_score\n",
    "        \n",
    "    return scores"
   ]
  },
  {
   "cell_type": "code",
   "execution_count": null,
   "id": "6471fbc4",
   "metadata": {},
   "outputs": [],
   "source": [
    "cols = ['Avg_Sunday-Holiday_Rides', 'Avg_Weekday_Rides','Avg_Saturday_Rides']\n",
    "target_features_data = oneroute[cols]\n",
    "scores_oneroute = create_model(target_features_data, 'Avg_Sunday-Holiday_Rides', models)\n",
    "scores_oneroute"
   ]
  },
  {
   "cell_type": "markdown",
   "id": "e2ba9adb",
   "metadata": {},
   "source": [
    "Let's now try option 2, where we add the categorical feature routename to our model.\n",
    "\n",
    "What are the ways to convert categorical feature into numeric values? There are many. One popular method is to create a new column for each categorical variable and fill in value 1 for the routename column if the row belongs to that routename, otherwise fill in value 0. This process is also called creating dummy variable.\n",
    "\n",
    "Pandas has an easy way to create dummy variables using the `get_dummies` method. Let's apply that on a toy dataset to see what transformation is taking place."
   ]
  },
  {
   "cell_type": "code",
   "execution_count": 113,
   "id": "5b151511",
   "metadata": {},
   "outputs": [
    {
     "data": {
      "text/html": [
       "<div>\n",
       "<style scoped>\n",
       "    .dataframe tbody tr th:only-of-type {\n",
       "        vertical-align: middle;\n",
       "    }\n",
       "\n",
       "    .dataframe tbody tr th {\n",
       "        vertical-align: top;\n",
       "    }\n",
       "\n",
       "    .dataframe thead th {\n",
       "        text-align: right;\n",
       "    }\n",
       "</style>\n",
       "<table border=\"1\" class=\"dataframe\">\n",
       "  <thead>\n",
       "    <tr style=\"text-align: right;\">\n",
       "      <th></th>\n",
       "      <th>fruits</th>\n",
       "      <th>quantity</th>\n",
       "    </tr>\n",
       "  </thead>\n",
       "  <tbody>\n",
       "    <tr>\n",
       "      <th>0</th>\n",
       "      <td>apple</td>\n",
       "      <td>2</td>\n",
       "    </tr>\n",
       "    <tr>\n",
       "      <th>1</th>\n",
       "      <td>orange</td>\n",
       "      <td>5</td>\n",
       "    </tr>\n",
       "  </tbody>\n",
       "</table>\n",
       "</div>"
      ],
      "text/plain": [
       "   fruits  quantity\n",
       "0   apple         2\n",
       "1  orange         5"
      ]
     },
     "execution_count": 113,
     "metadata": {},
     "output_type": "execute_result"
    }
   ],
   "source": [
    "# create toy data set with categorica and numeric features\n",
    "test_data = pd.DataFrame( [['apple', 2], ['orange', 5]], columns=['fruits', 'quantity'])\n",
    "test_data.head()"
   ]
  },
  {
   "cell_type": "code",
   "execution_count": 114,
   "id": "7424c023",
   "metadata": {},
   "outputs": [
    {
     "data": {
      "text/html": [
       "<div>\n",
       "<style scoped>\n",
       "    .dataframe tbody tr th:only-of-type {\n",
       "        vertical-align: middle;\n",
       "    }\n",
       "\n",
       "    .dataframe tbody tr th {\n",
       "        vertical-align: top;\n",
       "    }\n",
       "\n",
       "    .dataframe thead th {\n",
       "        text-align: right;\n",
       "    }\n",
       "</style>\n",
       "<table border=\"1\" class=\"dataframe\">\n",
       "  <thead>\n",
       "    <tr style=\"text-align: right;\">\n",
       "      <th></th>\n",
       "      <th>apple</th>\n",
       "      <th>orange</th>\n",
       "    </tr>\n",
       "  </thead>\n",
       "  <tbody>\n",
       "    <tr>\n",
       "      <th>0</th>\n",
       "      <td>1</td>\n",
       "      <td>0</td>\n",
       "    </tr>\n",
       "    <tr>\n",
       "      <th>1</th>\n",
       "      <td>0</td>\n",
       "      <td>1</td>\n",
       "    </tr>\n",
       "  </tbody>\n",
       "</table>\n",
       "</div>"
      ],
      "text/plain": [
       "   apple  orange\n",
       "0      1       0\n",
       "1      0       1"
      ]
     },
     "execution_count": 114,
     "metadata": {},
     "output_type": "execute_result"
    }
   ],
   "source": [
    "# create dummy variables for a categorical column\n",
    "pd.get_dummies(test_data['fruits'])"
   ]
  },
  {
   "cell_type": "code",
   "execution_count": 115,
   "id": "d803ed18",
   "metadata": {},
   "outputs": [
    {
     "data": {
      "text/html": [
       "<div>\n",
       "<style scoped>\n",
       "    .dataframe tbody tr th:only-of-type {\n",
       "        vertical-align: middle;\n",
       "    }\n",
       "\n",
       "    .dataframe tbody tr th {\n",
       "        vertical-align: top;\n",
       "    }\n",
       "\n",
       "    .dataframe thead th {\n",
       "        text-align: right;\n",
       "    }\n",
       "</style>\n",
       "<table border=\"1\" class=\"dataframe\">\n",
       "  <thead>\n",
       "    <tr style=\"text-align: right;\">\n",
       "      <th></th>\n",
       "      <th>apple</th>\n",
       "      <th>orange</th>\n",
       "      <th>quantity</th>\n",
       "    </tr>\n",
       "  </thead>\n",
       "  <tbody>\n",
       "    <tr>\n",
       "      <th>0</th>\n",
       "      <td>1</td>\n",
       "      <td>0</td>\n",
       "      <td>2</td>\n",
       "    </tr>\n",
       "    <tr>\n",
       "      <th>1</th>\n",
       "      <td>0</td>\n",
       "      <td>1</td>\n",
       "      <td>5</td>\n",
       "    </tr>\n",
       "  </tbody>\n",
       "</table>\n",
       "</div>"
      ],
      "text/plain": [
       "   apple  orange  quantity\n",
       "0      1       0         2\n",
       "1      0       1         5"
      ]
     },
     "execution_count": 115,
     "metadata": {},
     "output_type": "execute_result"
    }
   ],
   "source": [
    "# combine the dummy variables with remaining numeric column of the original data\n",
    "pd.concat([pd.get_dummies(test_data['fruits']), test_data['quantity']], axis=1)"
   ]
  },
  {
   "cell_type": "markdown",
   "id": "152730c8",
   "metadata": {},
   "source": [
    "The above transformation can also be done via `OneHotEncoder` function available through the `preprocessing` submodule of `sklearn`. This method is easier to use if you have many categorical columns. Here, we will see an example on our toy data set."
   ]
  },
  {
   "cell_type": "code",
   "execution_count": null,
   "id": "19cb452e",
   "metadata": {},
   "outputs": [],
   "source": [
    "from sklearn.preprocessing import OneHotEncoder"
   ]
  },
  {
   "cell_type": "code",
   "execution_count": null,
   "id": "8636f46d",
   "metadata": {},
   "outputs": [],
   "source": [
    "# 1. create an instance of the one hot encoder object\n",
    "ohe = OneHotEncoder()\n",
    "\n",
    "# 2. fit the data to the one hot encoder instance\n",
    "ohe.fit_transform(test_data['fruits'].values.reshape(-1,1)) # require the input data to be 2-dimensional"
   ]
  },
  {
   "cell_type": "markdown",
   "id": "45865f61",
   "metadata": {},
   "source": [
    "The resulting object is a sparse matrix, which cannot be combined to a `dataframe`. Therefore, we must first convert it to a numpy `array` for which there is a `toarray` method provided."
   ]
  },
  {
   "cell_type": "code",
   "execution_count": null,
   "id": "64de815c",
   "metadata": {},
   "outputs": [],
   "source": [
    "# 3. convert the transformed data to an numpy array \n",
    "dummy_fruits = ohe.fit_transform(test_data['fruits'].values.reshape(-1,1)).toarray()\n",
    "dummy_fruits"
   ]
  },
  {
   "cell_type": "markdown",
   "id": "e5d6cb28",
   "metadata": {},
   "source": [
    "Numpy `array` can be easily converted to a pandas `dataframe`."
   ]
  },
  {
   "cell_type": "code",
   "execution_count": null,
   "id": "02b0c85e",
   "metadata": {},
   "outputs": [],
   "source": [
    "# 4. transform the numpy array to dataframe\n",
    "pd.DataFrame(dummy_fruits)"
   ]
  },
  {
   "cell_type": "markdown",
   "id": "c94cc4dd",
   "metadata": {},
   "source": [
    "Note that we are missing the column names, which can make it difficult to know which category the column belongs to. This can be easily retrieved using the `categories_` method of the `OneHotEncoder` object. "
   ]
  },
  {
   "cell_type": "code",
   "execution_count": null,
   "id": "403166f6",
   "metadata": {},
   "outputs": [],
   "source": [
    "# while converting to dataframe add column names as well\n",
    "pd.DataFrame(dummy_fruits, columns=ohe.categories_)"
   ]
  },
  {
   "cell_type": "markdown",
   "id": "3db36594",
   "metadata": {},
   "source": [
    "Now, let's try this on routenames column of our dataset and see if adding this feature to the model helps predict better."
   ]
  },
  {
   "cell_type": "code",
   "execution_count": null,
   "id": "7b23d363",
   "metadata": {},
   "outputs": [],
   "source": [
    "ohe = OneHotEncoder()\n",
    "dummy_routename = ohe.fit_transform(data['routename'].values.reshape(-1,1)).toarray()\n",
    "dummy_routename = pd.DataFrame(dummy_routename, columns=ohe.categories_)\n",
    "dummy_routename.head()"
   ]
  },
  {
   "cell_type": "code",
   "execution_count": null,
   "id": "192a545b",
   "metadata": {},
   "outputs": [],
   "source": [
    "cols = ['Avg_Sunday-Holiday_Rides', 'Avg_Weekday_Rides','Avg_Saturday_Rides']\n",
    "target_features_data = pd.concat([data[cols], dummy_routename], axis=1)\n",
    "scores_routename = create_model(target_features_data, 'Avg_Sunday-Holiday_Rides' , models)\n",
    "scores_routename"
   ]
  },
  {
   "cell_type": "code",
   "execution_count": null,
   "id": "05c9b29f",
   "metadata": {},
   "outputs": [],
   "source": [
    "scores"
   ]
  },
  {
   "cell_type": "markdown",
   "id": "73de7e08",
   "metadata": {},
   "source": [
    "Clearly, the non-linear modelling fit suits the data and the problem better and adding the routename information helps both linear and non-linear model perform better. \n",
    "\n",
    "## Exercise 1:\n",
    "Create yet another model that has all features of the best model so far and add the additional information from the \"Month_Beginning_year\" column. Does adding this information increase predictability?"
   ]
  },
  {
   "cell_type": "code",
   "execution_count": null,
   "id": "679f67e6",
   "metadata": {},
   "outputs": [],
   "source": []
  },
  {
   "cell_type": "markdown",
   "id": "b75469ce",
   "metadata": {},
   "source": [
    "## Exercise 2:\n",
    "Create yet another model that has all features of the best model so far and add the additional information from the \"Month_Beginning_month\" column. Does adding this information increase predictability?"
   ]
  },
  {
   "cell_type": "code",
   "execution_count": null,
   "id": "c9a7fc57",
   "metadata": {},
   "outputs": [],
   "source": []
  }
 ],
 "metadata": {
  "kernelspec": {
   "display_name": "Python 3 (ipykernel)",
   "language": "python",
   "name": "python3"
  },
  "language_info": {
   "codemirror_mode": {
    "name": "ipython",
    "version": 3
   },
   "file_extension": ".py",
   "mimetype": "text/x-python",
   "name": "python",
   "nbconvert_exporter": "python",
   "pygments_lexer": "ipython3",
   "version": "3.7.3"
  }
 },
 "nbformat": 4,
 "nbformat_minor": 5
}
